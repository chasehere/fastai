{
 "cells": [
  {
   "cell_type": "markdown",
   "metadata": {},
   "source": [
    "# Grockit Competition"
   ]
  },
  {
   "cell_type": "code",
   "execution_count": 1,
   "metadata": {
    "ExecuteTime": {
     "end_time": "2017-05-01T16:45:44.052075",
     "start_time": "2017-05-01T16:45:43.772727"
    },
    "collapsed": true
   },
   "outputs": [],
   "source": [
    "# dependencies\n",
    "import numpy as np\n",
    "import pandas as pd"
   ]
  },
  {
   "cell_type": "code",
   "execution_count": 2,
   "metadata": {
    "ExecuteTime": {
     "end_time": "2017-05-01T16:45:45.406999",
     "start_time": "2017-05-01T16:45:45.401855"
    },
    "collapsed": false
   },
   "outputs": [],
   "source": [
    "# data locations\n",
    "train_path = '/mnt/azurefs/data/grockit/training.csv'\n",
    "test_path = '/mnt/azurefs/data/grockit/test.csv'\n",
    "valid_train_path = '/mnt/azurefs/data/grockit/valid_training.csv'\n",
    "valid_test_path = '/mnt/azurefs/data/grockit/valid_test.csv'\n",
    "test_sorted_path = '/mnt/azurefs/data/grockit/test_sorted.csv'\n",
    "solution_sorted_path = '/mnt/azurefs/data/grockit/solution_sorted.csv'\n",
    "sample_path = '/mnt/azurefs/data/grockit/benchmark_lmer_submission.csv'\n",
    "models_path = '/mnt/azurefs/data/grockit/models/'\n",
    "results_path = 'data/'"
   ]
  },
  {
   "cell_type": "code",
   "execution_count": 3,
   "metadata": {
    "ExecuteTime": {
     "end_time": "2017-05-01T16:46:41.744490",
     "start_time": "2017-05-01T16:45:46.656195"
    },
    "collapsed": false
   },
   "outputs": [],
   "source": [
    "# load data\n",
    "train = pd.read_csv(train_path)\n",
    "test = pd.read_csv(test_path)\n",
    "sample_submission = pd.read_csv(sample_path)\n",
    "valid_train = pd.read_csv(valid_train_path)\n",
    "valid_test = pd.read_csv(valid_test_path)\n",
    "test_sorted = pd.read_csv(test_sorted_path)\n",
    "solution = pd.read_csv(solution_sorted_path)"
   ]
  },
  {
   "cell_type": "code",
   "execution_count": 4,
   "metadata": {
    "ExecuteTime": {
     "end_time": "2017-05-01T16:46:49.974429",
     "start_time": "2017-05-01T16:46:49.969617"
    },
    "collapsed": true
   },
   "outputs": [],
   "source": [
    "def format_date_times(df):\n",
    "    df['round_started_at'] = pd.to_datetime(df['round_started_at'], format='%Y-%m-%d %H:%M:%S', errors='coerce')\n",
    "    df['answered_at'] = pd.to_datetime(df['answered_at'], format='%Y-%m-%d %H:%M:%S', errors='coerce')\n",
    "    df['deactivated_at'] = pd.to_datetime(df['deactivated_at'], format='%Y-%m-%d %H:%M:%S', errors='coerce')    \n",
    "    return(df)"
   ]
  },
  {
   "cell_type": "code",
   "execution_count": 5,
   "metadata": {
    "ExecuteTime": {
     "end_time": "2017-05-01T16:47:00.995828",
     "start_time": "2017-05-01T16:46:51.217266"
    },
    "collapsed": false
   },
   "outputs": [],
   "source": [
    "# format date times - some 0000-00-00 00:00:00, errors=coerce will give NaT for those\n",
    "\n",
    "\n",
    "train['round_started_at'] = pd.to_datetime(train['round_started_at'], format='%Y-%m-%d %H:%M:%S', errors='coerce')\n",
    "train['answered_at'] = pd.to_datetime(train['answered_at'], format='%Y-%m-%d %H:%M:%S', errors='coerce')\n",
    "train['deactivated_at'] = pd.to_datetime(train['deactivated_at'], format='%Y-%m-%d %H:%M:%S', errors='coerce')\n",
    "\n",
    "valid_train['round_started_at'] = pd.to_datetime(valid_train['round_started_at'], format='%Y-%m-%d %H:%M:%S', errors='coerce')\n",
    "valid_train['answered_at'] = pd.to_datetime(valid_train['answered_at'], format='%Y-%m-%d %H:%M:%S', errors='coerce')\n",
    "valid_train['deactivated_at'] = pd.to_datetime(valid_train['deactivated_at'], format='%Y-%m-%d %H:%M:%S', errors='coerce')\n",
    "\n",
    "valid_test['round_started_at'] = pd.to_datetime(valid_test['round_started_at'], format='%Y-%m-%d %H:%M:%S', errors='coerce')\n",
    "valid_test['answered_at'] = pd.to_datetime(valid_test['answered_at'], format='%Y-%m-%d %H:%M:%S', errors='coerce')\n",
    "valid_test['deactivated_at'] = pd.to_datetime(valid_test['deactivated_at'], format='%Y-%m-%d %H:%M:%S', errors='coerce')\n",
    "\n",
    "test['round_started_at'] = pd.to_datetime(test['round_started_at'], format='%Y-%m-%d %H:%M:%S', errors='coerce')\n",
    "test['answered_at'] = pd.to_datetime(test['answered_at'], format='%Y-%m-%d %H:%M:%S', errors='coerce')\n",
    "test['deactivated_at'] = pd.to_datetime(test['deactivated_at'], format='%Y-%m-%d %H:%M:%S', errors='coerce')"
   ]
  },
  {
   "cell_type": "markdown",
   "metadata": {
    "heading_collapsed": true
   },
   "source": [
    "# Data Exploration"
   ]
  },
  {
   "cell_type": "code",
   "execution_count": 5,
   "metadata": {
    "ExecuteTime": {
     "end_time": "2017-04-13T02:16:13.887968",
     "start_time": "2017-04-13T02:16:13.872440"
    },
    "collapsed": false,
    "hidden": true
   },
   "outputs": [
    {
     "data": {
      "text/plain": [
       "82926"
      ]
     },
     "execution_count": 5,
     "metadata": {},
     "output_type": "execute_result"
    }
   ],
   "source": [
    "solution['user_id'].nunique()"
   ]
  },
  {
   "cell_type": "code",
   "execution_count": 6,
   "metadata": {
    "ExecuteTime": {
     "end_time": "2017-04-13T02:16:14.758685",
     "start_time": "2017-04-13T02:16:14.751779"
    },
    "collapsed": false,
    "hidden": true
   },
   "outputs": [
    {
     "data": {
      "text/plain": [
       "93100"
      ]
     },
     "execution_count": 6,
     "metadata": {},
     "output_type": "execute_result"
    }
   ],
   "source": [
    "sample_submission['user_id'].nunique()"
   ]
  },
  {
   "cell_type": "code",
   "execution_count": 7,
   "metadata": {
    "ExecuteTime": {
     "end_time": "2017-04-13T02:16:15.896301",
     "start_time": "2017-04-13T02:16:15.754664"
    },
    "collapsed": false,
    "hidden": true
   },
   "outputs": [
    {
     "data": {
      "text/html": [
       "<div>\n",
       "<table border=\"1\" class=\"dataframe\">\n",
       "  <thead>\n",
       "    <tr style=\"text-align: right;\">\n",
       "      <th></th>\n",
       "      <th>user_id</th>\n",
       "      <th>question_id</th>\n",
       "      <th>question_type</th>\n",
       "      <th>group_name</th>\n",
       "      <th>track_name</th>\n",
       "      <th>subtrack_name</th>\n",
       "      <th>tag_string</th>\n",
       "      <th>round_started_at</th>\n",
       "      <th>game_type</th>\n",
       "      <th>num_players</th>\n",
       "      <th>date_of_test</th>\n",
       "      <th>question_set_id</th>\n",
       "    </tr>\n",
       "  </thead>\n",
       "  <tbody>\n",
       "    <tr>\n",
       "      <th>0</th>\n",
       "      <td>0</td>\n",
       "      <td>2928</td>\n",
       "      <td>MultipleChoiceOneCorrect</td>\n",
       "      <td>act</td>\n",
       "      <td>ACT Reading</td>\n",
       "      <td>Reading</td>\n",
       "      <td>Author's Purpose or Method|Humanities|Meaning-...</td>\n",
       "      <td>2011-08-26 16:59:06</td>\n",
       "      <td>PracticeGame</td>\n",
       "      <td>1</td>\n",
       "      <td>NaN</td>\n",
       "      <td>687</td>\n",
       "    </tr>\n",
       "    <tr>\n",
       "      <th>1</th>\n",
       "      <td>1</td>\n",
       "      <td>1668</td>\n",
       "      <td>MultipleChoiceOneCorrect</td>\n",
       "      <td>gmat</td>\n",
       "      <td>GMAT Quantitative</td>\n",
       "      <td>Problem Solving</td>\n",
       "      <td>Algebra|Interest|Problem Solving|Word Problems</td>\n",
       "      <td>2011-02-14 08:11:20</td>\n",
       "      <td>CompetitiveGame</td>\n",
       "      <td>1</td>\n",
       "      <td>NaN</td>\n",
       "      <td>2952</td>\n",
       "    </tr>\n",
       "    <tr>\n",
       "      <th>2</th>\n",
       "      <td>2</td>\n",
       "      <td>4629</td>\n",
       "      <td>MultipleChoiceOneCorrect</td>\n",
       "      <td>act</td>\n",
       "      <td>ACT Reading</td>\n",
       "      <td>Reading</td>\n",
       "      <td>Main Idea of Paragraph or Passage|Order and Or...</td>\n",
       "      <td>2011-11-08 16:31:36</td>\n",
       "      <td>DiagnosticGame</td>\n",
       "      <td>1</td>\n",
       "      <td>NaN</td>\n",
       "      <td>701</td>\n",
       "    </tr>\n",
       "    <tr>\n",
       "      <th>3</th>\n",
       "      <td>4</td>\n",
       "      <td>2488</td>\n",
       "      <td>MultipleChoiceOneCorrect</td>\n",
       "      <td>gmat</td>\n",
       "      <td>GMAT Verbal</td>\n",
       "      <td>Critical Reasoning</td>\n",
       "      <td>CR: Resolve Argument|Critical Reasoning</td>\n",
       "      <td>2010-02-09 04:53:41</td>\n",
       "      <td>PracticeGame</td>\n",
       "      <td>2</td>\n",
       "      <td>2010-05-24</td>\n",
       "      <td>2256</td>\n",
       "    </tr>\n",
       "    <tr>\n",
       "      <th>4</th>\n",
       "      <td>5</td>\n",
       "      <td>4505</td>\n",
       "      <td>MultipleChoiceOneCorrect</td>\n",
       "      <td>sat</td>\n",
       "      <td>SAT Writing</td>\n",
       "      <td>Improving Sentences</td>\n",
       "      <td>Improving Sentences|Parallel Structure|Word ch...</td>\n",
       "      <td>2011-01-17 18:23:14</td>\n",
       "      <td>PracticeGame</td>\n",
       "      <td>1</td>\n",
       "      <td>NaN</td>\n",
       "      <td>1318</td>\n",
       "    </tr>\n",
       "  </tbody>\n",
       "</table>\n",
       "</div>"
      ],
      "text/plain": [
       "   user_id  question_id             question_type group_name  \\\n",
       "0        0         2928  MultipleChoiceOneCorrect        act   \n",
       "1        1         1668  MultipleChoiceOneCorrect       gmat   \n",
       "2        2         4629  MultipleChoiceOneCorrect        act   \n",
       "3        4         2488  MultipleChoiceOneCorrect       gmat   \n",
       "4        5         4505  MultipleChoiceOneCorrect        sat   \n",
       "\n",
       "          track_name        subtrack_name  \\\n",
       "0        ACT Reading              Reading   \n",
       "1  GMAT Quantitative      Problem Solving   \n",
       "2        ACT Reading              Reading   \n",
       "3        GMAT Verbal   Critical Reasoning   \n",
       "4        SAT Writing  Improving Sentences   \n",
       "\n",
       "                                          tag_string     round_started_at  \\\n",
       "0  Author's Purpose or Method|Humanities|Meaning-...  2011-08-26 16:59:06   \n",
       "1     Algebra|Interest|Problem Solving|Word Problems  2011-02-14 08:11:20   \n",
       "2  Main Idea of Paragraph or Passage|Order and Or...  2011-11-08 16:31:36   \n",
       "3            CR: Resolve Argument|Critical Reasoning  2010-02-09 04:53:41   \n",
       "4  Improving Sentences|Parallel Structure|Word ch...  2011-01-17 18:23:14   \n",
       "\n",
       "         game_type  num_players date_of_test question_set_id  \n",
       "0     PracticeGame            1          NaN             687  \n",
       "1  CompetitiveGame            1          NaN            2952  \n",
       "2   DiagnosticGame            1          NaN             701  \n",
       "3     PracticeGame            2   2010-05-24            2256  \n",
       "4     PracticeGame            1          NaN            1318  "
      ]
     },
     "execution_count": 7,
     "metadata": {},
     "output_type": "execute_result"
    }
   ],
   "source": [
    "test_sorted.head()"
   ]
  },
  {
   "cell_type": "code",
   "execution_count": 8,
   "metadata": {
    "ExecuteTime": {
     "end_time": "2017-04-13T02:16:17.906631",
     "start_time": "2017-04-13T02:16:17.891869"
    },
    "collapsed": false,
    "hidden": true
   },
   "outputs": [
    {
     "data": {
      "text/html": [
       "<div>\n",
       "<table border=\"1\" class=\"dataframe\">\n",
       "  <thead>\n",
       "    <tr style=\"text-align: right;\">\n",
       "      <th></th>\n",
       "      <th>user_id</th>\n",
       "      <th>question_id</th>\n",
       "      <th>question_type</th>\n",
       "      <th>group_name</th>\n",
       "      <th>track_name</th>\n",
       "      <th>subtrack_name</th>\n",
       "      <th>tag_string</th>\n",
       "      <th>round_started_at</th>\n",
       "      <th>answered_at</th>\n",
       "      <th>deactivated_at</th>\n",
       "      <th>game_type</th>\n",
       "      <th>num_players</th>\n",
       "      <th>date_of_test</th>\n",
       "      <th>question_set_id</th>\n",
       "    </tr>\n",
       "  </thead>\n",
       "  <tbody>\n",
       "    <tr>\n",
       "      <th>0</th>\n",
       "      <td>0</td>\n",
       "      <td>5186</td>\n",
       "      <td>0</td>\n",
       "      <td>0</td>\n",
       "      <td>2</td>\n",
       "      <td>10</td>\n",
       "      <td>62 91 127 206</td>\n",
       "      <td>2011-08-26 16:58:47</td>\n",
       "      <td>2011-08-26 16:59:01</td>\n",
       "      <td>2011-08-26 16:59:03</td>\n",
       "      <td>7</td>\n",
       "      <td>1</td>\n",
       "      <td>NaN</td>\n",
       "      <td>3049</td>\n",
       "    </tr>\n",
       "    <tr>\n",
       "      <th>1</th>\n",
       "      <td>1</td>\n",
       "      <td>547</td>\n",
       "      <td>0</td>\n",
       "      <td>1</td>\n",
       "      <td>4</td>\n",
       "      <td>9</td>\n",
       "      <td>36 77 82 161 205</td>\n",
       "      <td>2011-02-14 08:10:03</td>\n",
       "      <td>2011-02-14 08:11:17</td>\n",
       "      <td>2011-02-14 08:11:18</td>\n",
       "      <td>2</td>\n",
       "      <td>1</td>\n",
       "      <td>NaN</td>\n",
       "      <td>1859</td>\n",
       "    </tr>\n",
       "    <tr>\n",
       "      <th>2</th>\n",
       "      <td>2</td>\n",
       "      <td>1613</td>\n",
       "      <td>0</td>\n",
       "      <td>0</td>\n",
       "      <td>2</td>\n",
       "      <td>10</td>\n",
       "      <td>62 122 206 253</td>\n",
       "      <td>2011-11-08 16:31:28</td>\n",
       "      <td>2011-11-08 16:31:34</td>\n",
       "      <td>2011-11-08 16:31:36</td>\n",
       "      <td>5</td>\n",
       "      <td>1</td>\n",
       "      <td>NaN</td>\n",
       "      <td>3142</td>\n",
       "    </tr>\n",
       "    <tr>\n",
       "      <th>3</th>\n",
       "      <td>4</td>\n",
       "      <td>2545</td>\n",
       "      <td>0</td>\n",
       "      <td>1</td>\n",
       "      <td>5</td>\n",
       "      <td>0</td>\n",
       "      <td>28 49</td>\n",
       "      <td>2010-02-09 04:52:29</td>\n",
       "      <td>2010-02-09 04:53:17</td>\n",
       "      <td>2010-02-09 04:53:30</td>\n",
       "      <td>7</td>\n",
       "      <td>2</td>\n",
       "      <td>2010-05-24</td>\n",
       "      <td>1239</td>\n",
       "    </tr>\n",
       "    <tr>\n",
       "      <th>4</th>\n",
       "      <td>5</td>\n",
       "      <td>2303</td>\n",
       "      <td>0</td>\n",
       "      <td>2</td>\n",
       "      <td>8</td>\n",
       "      <td>3</td>\n",
       "      <td>101 103 275</td>\n",
       "      <td>2011-01-17 18:22:30</td>\n",
       "      <td>2011-01-17 18:23:00</td>\n",
       "      <td>2011-01-17 18:23:02</td>\n",
       "      <td>7</td>\n",
       "      <td>1</td>\n",
       "      <td>NaN</td>\n",
       "      <td>455</td>\n",
       "    </tr>\n",
       "  </tbody>\n",
       "</table>\n",
       "</div>"
      ],
      "text/plain": [
       "   user_id  question_id  question_type  group_name  track_name  subtrack_name  \\\n",
       "0        0         5186              0           0           2             10   \n",
       "1        1          547              0           1           4              9   \n",
       "2        2         1613              0           0           2             10   \n",
       "3        4         2545              0           1           5              0   \n",
       "4        5         2303              0           2           8              3   \n",
       "\n",
       "         tag_string    round_started_at         answered_at  \\\n",
       "0     62 91 127 206 2011-08-26 16:58:47 2011-08-26 16:59:01   \n",
       "1  36 77 82 161 205 2011-02-14 08:10:03 2011-02-14 08:11:17   \n",
       "2    62 122 206 253 2011-11-08 16:31:28 2011-11-08 16:31:34   \n",
       "3             28 49 2010-02-09 04:52:29 2010-02-09 04:53:17   \n",
       "4       101 103 275 2011-01-17 18:22:30 2011-01-17 18:23:00   \n",
       "\n",
       "       deactivated_at  game_type  num_players date_of_test  question_set_id  \n",
       "0 2011-08-26 16:59:03          7            1          NaN             3049  \n",
       "1 2011-02-14 08:11:18          2            1          NaN             1859  \n",
       "2 2011-11-08 16:31:36          5            1          NaN             3142  \n",
       "3 2010-02-09 04:53:30          7            2   2010-05-24             1239  \n",
       "4 2011-01-17 18:23:02          7            1          NaN              455  "
      ]
     },
     "execution_count": 8,
     "metadata": {},
     "output_type": "execute_result"
    }
   ],
   "source": [
    "test.head()"
   ]
  },
  {
   "cell_type": "code",
   "execution_count": 9,
   "metadata": {
    "ExecuteTime": {
     "end_time": "2017-04-13T02:16:18.903700",
     "start_time": "2017-04-13T02:16:18.884893"
    },
    "collapsed": false,
    "hidden": true
   },
   "outputs": [
    {
     "data": {
      "text/html": [
       "<div>\n",
       "<table border=\"1\" class=\"dataframe\">\n",
       "  <thead>\n",
       "    <tr style=\"text-align: right;\">\n",
       "      <th></th>\n",
       "      <th>correct</th>\n",
       "      <th>outcome</th>\n",
       "      <th>user_id</th>\n",
       "      <th>question_id</th>\n",
       "      <th>question_type</th>\n",
       "      <th>group_name</th>\n",
       "      <th>track_name</th>\n",
       "      <th>subtrack_name</th>\n",
       "      <th>tag_string</th>\n",
       "      <th>round_started_at</th>\n",
       "      <th>answered_at</th>\n",
       "      <th>deactivated_at</th>\n",
       "      <th>answer_id</th>\n",
       "      <th>game_type</th>\n",
       "      <th>num_players</th>\n",
       "      <th>date_of_test</th>\n",
       "      <th>question_set_id</th>\n",
       "    </tr>\n",
       "  </thead>\n",
       "  <tbody>\n",
       "    <tr>\n",
       "      <th>0</th>\n",
       "      <td>0</td>\n",
       "      <td>2</td>\n",
       "      <td>85818</td>\n",
       "      <td>5560</td>\n",
       "      <td>0</td>\n",
       "      <td>1</td>\n",
       "      <td>5</td>\n",
       "      <td>14</td>\n",
       "      <td>222 233 240 246</td>\n",
       "      <td>2010-08-18 20:17:13</td>\n",
       "      <td>2010-08-18 20:18:18</td>\n",
       "      <td>2010-08-18 20:18:18</td>\n",
       "      <td>6540</td>\n",
       "      <td>7</td>\n",
       "      <td>1</td>\n",
       "      <td>NaN</td>\n",
       "      <td>1567</td>\n",
       "    </tr>\n",
       "    <tr>\n",
       "      <th>1</th>\n",
       "      <td>1</td>\n",
       "      <td>1</td>\n",
       "      <td>85818</td>\n",
       "      <td>4681</td>\n",
       "      <td>0</td>\n",
       "      <td>1</td>\n",
       "      <td>5</td>\n",
       "      <td>0</td>\n",
       "      <td>24 49</td>\n",
       "      <td>2010-08-18 20:19:12</td>\n",
       "      <td>2010-08-18 20:20:34</td>\n",
       "      <td>2010-08-18 20:20:34</td>\n",
       "      <td>4742</td>\n",
       "      <td>7</td>\n",
       "      <td>1</td>\n",
       "      <td>NaN</td>\n",
       "      <td>1227</td>\n",
       "    </tr>\n",
       "    <tr>\n",
       "      <th>2</th>\n",
       "      <td>1</td>\n",
       "      <td>1</td>\n",
       "      <td>85818</td>\n",
       "      <td>1529</td>\n",
       "      <td>0</td>\n",
       "      <td>1</td>\n",
       "      <td>5</td>\n",
       "      <td>0</td>\n",
       "      <td>31 49</td>\n",
       "      <td>2010-08-18 20:20:42</td>\n",
       "      <td>2010-08-18 20:21:56</td>\n",
       "      <td>2010-08-18 20:21:56</td>\n",
       "      <td>4309</td>\n",
       "      <td>7</td>\n",
       "      <td>1</td>\n",
       "      <td>NaN</td>\n",
       "      <td>1148</td>\n",
       "    </tr>\n",
       "    <tr>\n",
       "      <th>3</th>\n",
       "      <td>1</td>\n",
       "      <td>1</td>\n",
       "      <td>85818</td>\n",
       "      <td>2908</td>\n",
       "      <td>0</td>\n",
       "      <td>1</td>\n",
       "      <td>5</td>\n",
       "      <td>0</td>\n",
       "      <td>31 49</td>\n",
       "      <td>2010-08-18 20:22:03</td>\n",
       "      <td>2010-08-18 20:23:05</td>\n",
       "      <td>2010-08-18 20:23:05</td>\n",
       "      <td>4408</td>\n",
       "      <td>7</td>\n",
       "      <td>1</td>\n",
       "      <td>NaN</td>\n",
       "      <td>1168</td>\n",
       "    </tr>\n",
       "    <tr>\n",
       "      <th>4</th>\n",
       "      <td>1</td>\n",
       "      <td>1</td>\n",
       "      <td>85818</td>\n",
       "      <td>1773</td>\n",
       "      <td>0</td>\n",
       "      <td>1</td>\n",
       "      <td>5</td>\n",
       "      <td>11</td>\n",
       "      <td>183 194 207</td>\n",
       "      <td>2010-08-18 20:23:11</td>\n",
       "      <td>2010-08-18 20:26:08</td>\n",
       "      <td>2010-08-18 20:26:08</td>\n",
       "      <td>10822</td>\n",
       "      <td>7</td>\n",
       "      <td>1</td>\n",
       "      <td>NaN</td>\n",
       "      <td>2318</td>\n",
       "    </tr>\n",
       "  </tbody>\n",
       "</table>\n",
       "</div>"
      ],
      "text/plain": [
       "   correct  outcome  user_id  question_id  question_type  group_name  \\\n",
       "0        0        2    85818         5560              0           1   \n",
       "1        1        1    85818         4681              0           1   \n",
       "2        1        1    85818         1529              0           1   \n",
       "3        1        1    85818         2908              0           1   \n",
       "4        1        1    85818         1773              0           1   \n",
       "\n",
       "   track_name  subtrack_name       tag_string    round_started_at  \\\n",
       "0           5             14  222 233 240 246 2010-08-18 20:17:13   \n",
       "1           5              0            24 49 2010-08-18 20:19:12   \n",
       "2           5              0            31 49 2010-08-18 20:20:42   \n",
       "3           5              0            31 49 2010-08-18 20:22:03   \n",
       "4           5             11      183 194 207 2010-08-18 20:23:11   \n",
       "\n",
       "          answered_at      deactivated_at  answer_id  game_type  num_players  \\\n",
       "0 2010-08-18 20:18:18 2010-08-18 20:18:18       6540          7            1   \n",
       "1 2010-08-18 20:20:34 2010-08-18 20:20:34       4742          7            1   \n",
       "2 2010-08-18 20:21:56 2010-08-18 20:21:56       4309          7            1   \n",
       "3 2010-08-18 20:23:05 2010-08-18 20:23:05       4408          7            1   \n",
       "4 2010-08-18 20:26:08 2010-08-18 20:26:08      10822          7            1   \n",
       "\n",
       "  date_of_test  question_set_id  \n",
       "0          NaN             1567  \n",
       "1          NaN             1227  \n",
       "2          NaN             1148  \n",
       "3          NaN             1168  \n",
       "4          NaN             2318  "
      ]
     },
     "execution_count": 9,
     "metadata": {},
     "output_type": "execute_result"
    }
   ],
   "source": [
    "train.head()"
   ]
  },
  {
   "cell_type": "code",
   "execution_count": 10,
   "metadata": {
    "ExecuteTime": {
     "end_time": "2017-04-13T02:16:21.217414",
     "start_time": "2017-04-13T02:16:21.124843"
    },
    "collapsed": false,
    "hidden": true
   },
   "outputs": [
    {
     "data": {
      "text/plain": [
       "1    2655927\n",
       "2    1610210\n",
       "4     562566\n",
       "3      22519\n",
       "0        253\n",
       "Name: outcome, dtype: int64"
      ]
     },
     "execution_count": 10,
     "metadata": {},
     "output_type": "execute_result"
    }
   ],
   "source": [
    "train['outcome'].value_counts()"
   ]
  },
  {
   "cell_type": "code",
   "execution_count": 153,
   "metadata": {
    "ExecuteTime": {
     "end_time": "2017-04-14T21:38:58.819858",
     "start_time": "2017-04-14T21:38:58.813178"
    },
    "collapsed": false,
    "hidden": true
   },
   "outputs": [
    {
     "data": {
      "text/html": [
       "<div>\n",
       "<table border=\"1\" class=\"dataframe\">\n",
       "  <thead>\n",
       "    <tr style=\"text-align: right;\">\n",
       "      <th></th>\n",
       "      <th>user_id</th>\n",
       "      <th>outcome</th>\n",
       "    </tr>\n",
       "  </thead>\n",
       "  <tbody>\n",
       "    <tr>\n",
       "      <th>0</th>\n",
       "      <td>0</td>\n",
       "      <td>0.458734</td>\n",
       "    </tr>\n",
       "    <tr>\n",
       "      <th>1</th>\n",
       "      <td>1</td>\n",
       "      <td>0.801818</td>\n",
       "    </tr>\n",
       "    <tr>\n",
       "      <th>2</th>\n",
       "      <td>2</td>\n",
       "      <td>0.482292</td>\n",
       "    </tr>\n",
       "    <tr>\n",
       "      <th>3</th>\n",
       "      <td>4</td>\n",
       "      <td>0.339889</td>\n",
       "    </tr>\n",
       "    <tr>\n",
       "      <th>4</th>\n",
       "      <td>5</td>\n",
       "      <td>0.508015</td>\n",
       "    </tr>\n",
       "  </tbody>\n",
       "</table>\n",
       "</div>"
      ],
      "text/plain": [
       "   user_id   outcome\n",
       "0        0  0.458734\n",
       "1        1  0.801818\n",
       "2        2  0.482292\n",
       "3        4  0.339889\n",
       "4        5  0.508015"
      ]
     },
     "execution_count": 153,
     "metadata": {},
     "output_type": "execute_result"
    }
   ],
   "source": [
    "sample_submission.head()"
   ]
  },
  {
   "cell_type": "code",
   "execution_count": 154,
   "metadata": {
    "ExecuteTime": {
     "end_time": "2017-04-14T21:39:14.595258",
     "start_time": "2017-04-14T21:39:14.592566"
    },
    "collapsed": false,
    "hidden": true
   },
   "outputs": [
    {
     "name": "stdout",
     "output_type": "stream",
     "text": [
      "(93100, 2)\n",
      "(93100, 14)\n"
     ]
    }
   ],
   "source": [
    "print(sample_submission.shape)\n",
    "print(test.shape)"
   ]
  },
  {
   "cell_type": "markdown",
   "metadata": {},
   "source": [
    "# Build Data\n",
    "\n",
    "Steffen Rendle used user_id, question_id, time_to_answer (engineered), subtrack_name, game_type.  Following fast.ai Part 1 - Lesson 4 to embed data for a neurel network. "
   ]
  },
  {
   "cell_type": "code",
   "execution_count": 6,
   "metadata": {
    "ExecuteTime": {
     "end_time": "2017-05-01T16:47:04.829224",
     "start_time": "2017-05-01T16:47:04.706523"
    },
    "collapsed": false
   },
   "outputs": [],
   "source": [
    "# get unique values\n",
    "users = train.user_id.unique()\n",
    "questions = train.question_id.unique()\n",
    "subtracks = train.subtrack_name.unique()\n",
    "games = train.game_type.unique()"
   ]
  },
  {
   "cell_type": "code",
   "execution_count": 7,
   "metadata": {
    "ExecuteTime": {
     "end_time": "2017-05-01T16:47:50.421516",
     "start_time": "2017-05-01T16:47:11.066803"
    },
    "collapsed": false
   },
   "outputs": [],
   "source": [
    "# reload data, it gets modified here\n",
    "#train = pd.read_csv(train_path)\n",
    "valid_train = pd.read_csv(valid_train_path)\n",
    "valid_test = pd.read_csv(valid_test_path)\n",
    "test = pd.read_csv(test_path)\n",
    "\n",
    "valid_train = format_date_times(valid_train)\n",
    "valid_test = format_date_times(valid_test)\n",
    "test = format_date_times(test)\n",
    "\n",
    "# dictionaries mapping indicies to contiguous integers\n",
    "user2idx = {o:i for i,o in enumerate(users)}\n",
    "question2idx = {o:i for i,o in enumerate(questions)}\n",
    "subtrack2idx = {o:i for i,o in enumerate(subtracks)}\n",
    "games2idx = {o:i for i,o in enumerate(games)}\n",
    "\n",
    "# re-index indentifiers\n",
    "valid_train.user_id = valid_train.user_id.apply(lambda x: user2idx[x])\n",
    "valid_train.question_id = valid_train.question_id.apply(lambda x: question2idx[x])\n",
    "valid_train.subtrack_name = valid_train.subtrack_name.apply(lambda x: subtrack2idx[x])\n",
    "valid_train.game_type = valid_train.game_type.apply(lambda x: games2idx[x])\n",
    "\n",
    "valid_test.user_id = valid_test.user_id.apply(lambda x: user2idx[x])\n",
    "valid_test.question_id = valid_test.question_id.apply(lambda x: question2idx[x])\n",
    "valid_test.subtrack_name = valid_test.subtrack_name.apply(lambda x: subtrack2idx[x])\n",
    "valid_test.game_type = valid_test.game_type.apply(lambda x: games2idx[x])\n",
    "\n",
    "test.user_id = test.user_id.apply(lambda x: user2idx[x])\n",
    "test.question_id = test.question_id.apply(lambda x: question2idx[x])\n",
    "test.subtrack_name = test.subtrack_name.apply(lambda x: subtrack2idx[x])\n",
    "test.game_type = test.game_type.apply(lambda x: games2idx[x])"
   ]
  },
  {
   "cell_type": "markdown",
   "metadata": {},
   "source": [
    "## Time to Answer Feature"
   ]
  },
  {
   "cell_type": "markdown",
   "metadata": {},
   "source": [
    "# Model"
   ]
  },
  {
   "cell_type": "code",
   "execution_count": null,
   "metadata": {
    "ExecuteTime": {
     "start_time": "2017-05-01T16:51:52.247Z"
    },
    "collapsed": false
   },
   "outputs": [
    {
     "name": "stderr",
     "output_type": "stream",
     "text": [
      "Using Theano backend.\n"
     ]
    }
   ],
   "source": [
    "# dependencies\n",
    "import keras\n",
    "from keras.models import Model\n",
    "from keras.layers import Input, Embedding, merge\n",
    "from keras.regularizers import l2, l1, l1l2\n",
    "from keras.layers.core import Flatten, Dense, Dropout\n",
    "from keras.layers.normalization import BatchNormalization\n",
    "from keras.optimizers import Adam\n",
    "\n",
    "import theano\n",
    "from theano import tensor as T"
   ]
  },
  {
   "cell_type": "code",
   "execution_count": null,
   "metadata": {
    "ExecuteTime": {
     "start_time": "2017-05-01T02:30:42.661Z"
    },
    "collapsed": false
   },
   "outputs": [],
   "source": [
    "n_factors = 50\n",
    "np.random.seed = 56756756\n",
    "\n",
    "n_users = valid_train.user_id.nunique()\n",
    "n_questions = valid_train.question_id.nunique()\n",
    "n_subtracks = valid_train.subtrack_name.nunique()\n",
    "n_games = valid_train.game_type.nunique()\n",
    "n_users, n_questions, n_subtracks, n_games"
   ]
  },
  {
   "cell_type": "code",
   "execution_count": 78,
   "metadata": {
    "ExecuteTime": {
     "end_time": "2017-04-19T21:16:10.588594",
     "start_time": "2017-04-19T21:16:10.566261"
    },
    "collapsed": true
   },
   "outputs": [],
   "source": [
    "??Embedding"
   ]
  },
  {
   "cell_type": "code",
   "execution_count": null,
   "metadata": {
    "ExecuteTime": {
     "start_time": "2017-05-01T02:30:45.715Z"
    },
    "collapsed": true
   },
   "outputs": [],
   "source": [
    "# helper function from fast.ai Lesson 4\n",
    "def embedding_input(name, n_in, n_out, reg):\n",
    "    inp = Input(shape=(1,), dtype='int64', name=name)\n",
    "    return inp, Embedding(n_in, n_out, input_length=1, W_regularizer=l2(reg))(inp)\n",
    "\n",
    "def create_bias(inp, n_in):\n",
    "    x = Embedding(n_in, 1, input_length=1)(inp)\n",
    "    return Flatten()(x)"
   ]
  },
  {
   "cell_type": "code",
   "execution_count": null,
   "metadata": {
    "ExecuteTime": {
     "start_time": "2017-05-01T02:31:11.494Z"
    },
    "collapsed": false
   },
   "outputs": [],
   "source": [
    "# embed user, question, subtrack, game\n",
    "user_in, u = embedding_input('user_in', n_users, n_factors, 1e-4)\n",
    "question_in, q = embedding_input('question_in', n_questions, n_factors, 1e-4)\n",
    "subtrack_in, s = embedding_input('subtrack_in', n_subtracks, n_factors, 1e-4)\n",
    "game_in, g = embedding_input('game_in', n_games, n_factors, 1e-4)"
   ]
  },
  {
   "cell_type": "code",
   "execution_count": null,
   "metadata": {
    "ExecuteTime": {
     "start_time": "2017-05-01T02:36:09.296Z"
    },
    "collapsed": true
   },
   "outputs": [],
   "source": [
    "2+2"
   ]
  },
  {
   "cell_type": "code",
   "execution_count": 48,
   "metadata": {
    "ExecuteTime": {
     "end_time": "2017-04-19T20:19:25.746391",
     "start_time": "2017-04-19T20:19:25.743597"
    },
    "collapsed": false
   },
   "outputs": [],
   "source": [
    "time_in = Input(shape=(1,), dtype='float32', name='time_in')"
   ]
  },
  {
   "cell_type": "code",
   "execution_count": 49,
   "metadata": {
    "ExecuteTime": {
     "end_time": "2017-04-19T20:19:26.910836",
     "start_time": "2017-04-19T20:19:26.887166"
    },
    "collapsed": false
   },
   "outputs": [],
   "source": [
    "# create bias terms\n",
    "ub = create_bias(user_in, n_users)\n",
    "qb = create_bias(question_in, n_questions)\n",
    "subtrack_in, s = embedding_input('subtrack_in', n_subtracks, n_factors, 1e-4)\n",
    "game_in, g = embedding_input('game_in', n_games, n_factors, 1e-4)"
   ]
  },
  {
   "cell_type": "markdown",
   "metadata": {
    "heading_collapsed": true
   },
   "source": [
    "## Capped Binomial Deviance"
   ]
  },
  {
   "cell_type": "code",
   "execution_count": 13,
   "metadata": {
    "ExecuteTime": {
     "end_time": "2017-04-19T19:48:22.721661",
     "start_time": "2017-04-19T19:48:22.718164"
    },
    "collapsed": true,
    "hidden": true
   },
   "outputs": [],
   "source": [
    "def capped_binomial_deviance(y_true, y_pred):\n",
    "    \"\"\"Another cross entropy loss\n",
    "    \n",
    "    Loss used in What Do You Know? competition\n",
    "    Built-in version does not use base-10 logs and\n",
    "    caps at different values\n",
    "    \"\"\"\n",
    "    y_pred = T.clip(y_pred, 0.01, 0.99)\n",
    "    return keras.backend.mean(-(y_true * T.log10(y_pred) + (1.0 - y_true) * T.log10(1.0 - y_pred)), axis=-1)"
   ]
  },
  {
   "cell_type": "code",
   "execution_count": 17,
   "metadata": {
    "ExecuteTime": {
     "end_time": "2017-04-17T01:33:54.483368",
     "start_time": "2017-04-17T01:33:53.854465"
    },
    "collapsed": false,
    "hidden": true
   },
   "outputs": [
    {
     "data": {
      "text/plain": [
       "array(0.3010300099849701, dtype=float32)"
      ]
     },
     "execution_count": 17,
     "metadata": {},
     "output_type": "execute_result"
    }
   ],
   "source": [
    "# test loss function\n",
    "y_true = T.vector()\n",
    "y_pred = T.vector()\n",
    "a = capped_binomial_deviance(y_true, y_pred)\n",
    "a.eval({y_true: np.array([0, 0]).astype(np.float32), y_pred: np.array([.5, .5]).astype(np.float32)})"
   ]
  },
  {
   "cell_type": "code",
   "execution_count": 53,
   "metadata": {
    "ExecuteTime": {
     "end_time": "2017-04-16T02:58:54.620221",
     "start_time": "2017-04-16T02:58:54.617213"
    },
    "collapsed": true,
    "hidden": true
   },
   "outputs": [],
   "source": [
    "# python version\n",
    "def cbd(y_true, y_pred):\n",
    "    y_pred = np.clip(y_pred, .01, .99)\n",
    "    return np.mean(-(y_true * np.log10(y_pred) + (1-y_true)*np.log10(1-y_pred)))"
   ]
  },
  {
   "cell_type": "code",
   "execution_count": 149,
   "metadata": {
    "ExecuteTime": {
     "end_time": "2017-04-14T21:36:35.302523",
     "start_time": "2017-04-14T21:36:35.298940"
    },
    "collapsed": false,
    "hidden": true
   },
   "outputs": [
    {
     "data": {
      "text/plain": [
       "0.3010299956639812"
      ]
     },
     "execution_count": 149,
     "metadata": {},
     "output_type": "execute_result"
    }
   ],
   "source": [
    "# testing\n",
    "cbd(np.array([1, 1]), np.array([.5, .5]))"
   ]
  },
  {
   "cell_type": "code",
   "execution_count": 56,
   "metadata": {
    "ExecuteTime": {
     "end_time": "2017-04-16T02:59:31.035745",
     "start_time": "2017-04-16T02:59:31.027980"
    },
    "collapsed": false,
    "hidden": true
   },
   "outputs": [
    {
     "data": {
      "text/plain": [
       "0.27697229385375977"
      ]
     },
     "execution_count": 56,
     "metadata": {},
     "output_type": "execute_result"
    }
   ],
   "source": [
    "# compare predictions\n",
    "cbd(valid_test.correct, np.clip(pred[:,0], .01, .99))"
   ]
  },
  {
   "cell_type": "code",
   "execution_count": 60,
   "metadata": {
    "ExecuteTime": {
     "end_time": "2017-04-16T03:00:09.228828",
     "start_time": "2017-04-16T03:00:09.219128"
    },
    "collapsed": false,
    "hidden": true
   },
   "outputs": [
    {
     "ename": "NameError",
     "evalue": "name 'a' is not defined",
     "output_type": "error",
     "traceback": [
      "\u001b[0;31m---------------------------------------------------------------------------\u001b[0m",
      "\u001b[0;31mNameError\u001b[0m                                 Traceback (most recent call last)",
      "\u001b[0;32m<ipython-input-60-100cd66e80ce>\u001b[0m in \u001b[0;36m<module>\u001b[0;34m()\u001b[0m\n\u001b[1;32m      1\u001b[0m \u001b[0;31m# evaluate theano version\u001b[0m\u001b[0;34m\u001b[0m\u001b[0;34m\u001b[0m\u001b[0m\n\u001b[0;32m----> 2\u001b[0;31m \u001b[0ma\u001b[0m\u001b[0;34m.\u001b[0m\u001b[0meval\u001b[0m\u001b[0;34m(\u001b[0m\u001b[0;34m{\u001b[0m\u001b[0my_true\u001b[0m\u001b[0;34m:\u001b[0m \u001b[0mvalid_test\u001b[0m\u001b[0;34m.\u001b[0m\u001b[0mcorrect\u001b[0m\u001b[0;34m,\u001b[0m \u001b[0my_pred\u001b[0m\u001b[0;34m:\u001b[0m \u001b[0mpred\u001b[0m\u001b[0;34m[\u001b[0m\u001b[0;34m:\u001b[0m\u001b[0;34m,\u001b[0m\u001b[0;36m0\u001b[0m\u001b[0;34m]\u001b[0m\u001b[0;34m}\u001b[0m\u001b[0;34m)\u001b[0m\u001b[0;34m\u001b[0m\u001b[0m\n\u001b[0m",
      "\u001b[0;31mNameError\u001b[0m: name 'a' is not defined"
     ]
    }
   ],
   "source": [
    "# evaluate theano version\n",
    "a.eval({y_true: valid_test.correct, y_pred: pred[:,0]})"
   ]
  },
  {
   "cell_type": "markdown",
   "metadata": {},
   "source": [
    "## Linear Model\n",
    "* TODO: how to combine 4 vectors, 'dot' only combines two"
   ]
  },
  {
   "cell_type": "code",
   "execution_count": 50,
   "metadata": {
    "ExecuteTime": {
     "end_time": "2017-04-19T20:19:33.957085",
     "start_time": "2017-04-19T20:19:33.780104"
    },
    "collapsed": false
   },
   "outputs": [],
   "source": [
    "n_factors = 50\n",
    "np.random.seed = 56756756\n",
    "user_in, u = embedding_input('user_in', n_users, n_factors, 1e-4)\n",
    "question_in, q = embedding_input('question_in', n_questions, n_factors, 1e-4)\n",
    "subtrack_in, s = embedding_input('subtrack_in', n_subtracks, n_factors, 1e-4)\n",
    "game_in, g = embedding_input('game_in', n_games, n_factors, 1e-4)\n",
    "ub = create_bias(user_in, n_users)\n",
    "qb = create_bias(question_in, n_questions)\n",
    "subtrack_in, s = embedding_input('subtrack_in', n_subtracks, n_factors, 1e-4)\n",
    "game_in, g = embedding_input('game_in', n_games, n_factors, 1e-4)"
   ]
  },
  {
   "cell_type": "code",
   "execution_count": 74,
   "metadata": {
    "ExecuteTime": {
     "end_time": "2017-04-19T21:07:29.450392",
     "start_time": "2017-04-19T21:07:29.429155"
    },
    "collapsed": false
   },
   "outputs": [],
   "source": [
    "# linear model - TODO: how to get a \"4D dot product\"\n",
    "x = merge([u, q], mode='dot')\n",
    "x = Flatten()(x)\n",
    "x = merge([x, ub], mode='sum')\n",
    "x = merge([x, qb], mode='sum')\n",
    "#x = merge([x, sb], mode='sum')\n",
    "#x = merge([x, gb], mode='sum')\n",
    "model = Model([user_in, question_in], x)\n",
    "model.compile(Adam(0.001), loss=capped_binomial_deviance)"
   ]
  },
  {
   "cell_type": "code",
   "execution_count": 75,
   "metadata": {
    "ExecuteTime": {
     "end_time": "2017-04-19T21:07:33.539656",
     "start_time": "2017-04-19T21:07:33.375024"
    },
    "collapsed": false
   },
   "outputs": [
    {
     "name": "stdout",
     "output_type": "stream",
     "text": [
      "____________________________________________________________________________________________________\n",
      "Layer (type)                     Output Shape          Param #     Connected to                     \n",
      "====================================================================================================\n",
      "user_in (InputLayer)             (None, 1)             0                                            \n",
      "____________________________________________________________________________________________________\n",
      "question_in (InputLayer)         (None, 1)             0                                            \n",
      "____________________________________________________________________________________________________\n",
      "embedding_29 (Embedding)         (None, 1, 50)         8955300     user_in[0][0]                    \n",
      "____________________________________________________________________________________________________\n",
      "embedding_30 (Embedding)         (None, 1, 50)         302250      question_in[0][0]                \n",
      "____________________________________________________________________________________________________\n",
      "merge_52 (Merge)                 (None, 1, 1)          0           embedding_29[0][0]               \n",
      "                                                                   embedding_30[0][0]               \n",
      "____________________________________________________________________________________________________\n",
      "embedding_31 (Embedding)         (None, 1, 1)          179106      user_in[0][0]                    \n",
      "____________________________________________________________________________________________________\n",
      "flatten_34 (Flatten)             (None, 1)             0           merge_52[0][0]                   \n",
      "____________________________________________________________________________________________________\n",
      "flatten_22 (Flatten)             (None, 1)             0           embedding_31[0][0]               \n",
      "____________________________________________________________________________________________________\n",
      "embedding_32 (Embedding)         (None, 1, 1)          6045        question_in[0][0]                \n",
      "____________________________________________________________________________________________________\n",
      "merge_53 (Merge)                 (None, 1)             0           flatten_34[0][0]                 \n",
      "                                                                   flatten_22[0][0]                 \n",
      "____________________________________________________________________________________________________\n",
      "flatten_23 (Flatten)             (None, 1)             0           embedding_32[0][0]               \n",
      "____________________________________________________________________________________________________\n",
      "merge_54 (Merge)                 (None, 1)             0           merge_53[0][0]                   \n",
      "                                                                   flatten_23[0][0]                 \n",
      "====================================================================================================\n",
      "Total params: 9,442,701\n",
      "Trainable params: 9,442,701\n",
      "Non-trainable params: 0\n",
      "____________________________________________________________________________________________________\n"
     ]
    }
   ],
   "source": [
    "model.summary()"
   ]
  },
  {
   "cell_type": "code",
   "execution_count": 70,
   "metadata": {
    "ExecuteTime": {
     "end_time": "2017-04-19T20:27:51.560049",
     "start_time": "2017-04-19T20:27:51.545009"
    },
    "collapsed": false
   },
   "outputs": [
    {
     "ename": "TypeError",
     "evalue": "A Merge should only be applied to a list of layers with at least 2 elements. Found: [<keras.layers.core.Flatten object at 0x7f11bcf41160>]",
     "output_type": "error",
     "traceback": [
      "\u001b[0;31m---------------------------------------------------------------------------\u001b[0m",
      "\u001b[0;31mTypeError\u001b[0m                                 Traceback (most recent call last)",
      "\u001b[0;32m<ipython-input-70-2a4ecc3f8cbc>\u001b[0m in \u001b[0;36m<module>\u001b[0;34m()\u001b[0m\n\u001b[1;32m      3\u001b[0m \u001b[0;31m#x = merge([x], mode='sum')\u001b[0m\u001b[0;34m\u001b[0m\u001b[0;34m\u001b[0m\u001b[0m\n\u001b[1;32m      4\u001b[0m \u001b[0mx\u001b[0m \u001b[0;34m=\u001b[0m \u001b[0mFlatten\u001b[0m\u001b[0;34m(\u001b[0m\u001b[0;34m)\u001b[0m\u001b[0;34m(\u001b[0m\u001b[0mx\u001b[0m\u001b[0;34m)\u001b[0m\u001b[0;34m\u001b[0m\u001b[0m\n\u001b[0;32m----> 5\u001b[0;31m \u001b[0mx\u001b[0m \u001b[0;34m=\u001b[0m \u001b[0mmerge\u001b[0m\u001b[0;34m(\u001b[0m\u001b[0;34m[\u001b[0m\u001b[0mx\u001b[0m\u001b[0;34m]\u001b[0m\u001b[0;34m,\u001b[0m \u001b[0mmode\u001b[0m\u001b[0;34m=\u001b[0m\u001b[0;34m'sum'\u001b[0m\u001b[0;34m)\u001b[0m\u001b[0;34m\u001b[0m\u001b[0m\n\u001b[0m\u001b[1;32m      6\u001b[0m \u001b[0;31m#x = merge([x, ub], mode='sum')\u001b[0m\u001b[0;34m\u001b[0m\u001b[0;34m\u001b[0m\u001b[0m\n\u001b[1;32m      7\u001b[0m \u001b[0;31m#x = merge([x, qb], mode='sum')\u001b[0m\u001b[0;34m\u001b[0m\u001b[0;34m\u001b[0m\u001b[0m\n",
      "\u001b[0;32m/home/slaterc/anaconda3/lib/python3.5/site-packages/keras/engine/topology.py\u001b[0m in \u001b[0;36mmerge\u001b[0;34m(inputs, mode, concat_axis, dot_axes, output_shape, output_mask, arguments, name)\u001b[0m\n\u001b[1;32m   1678\u001b[0m                             \u001b[0mnode_indices\u001b[0m\u001b[0;34m=\u001b[0m\u001b[0mnode_indices\u001b[0m\u001b[0;34m,\u001b[0m\u001b[0;34m\u001b[0m\u001b[0m\n\u001b[1;32m   1679\u001b[0m                             \u001b[0mtensor_indices\u001b[0m\u001b[0;34m=\u001b[0m\u001b[0mtensor_indices\u001b[0m\u001b[0;34m,\u001b[0m\u001b[0;34m\u001b[0m\u001b[0m\n\u001b[0;32m-> 1680\u001b[0;31m                             name=name)\n\u001b[0m\u001b[1;32m   1681\u001b[0m         \u001b[0;32mreturn\u001b[0m \u001b[0mmerge_layer\u001b[0m\u001b[0;34m.\u001b[0m\u001b[0minbound_nodes\u001b[0m\u001b[0;34m[\u001b[0m\u001b[0;36m0\u001b[0m\u001b[0;34m]\u001b[0m\u001b[0;34m.\u001b[0m\u001b[0moutput_tensors\u001b[0m\u001b[0;34m[\u001b[0m\u001b[0;36m0\u001b[0m\u001b[0;34m]\u001b[0m\u001b[0;34m\u001b[0m\u001b[0m\n\u001b[1;32m   1682\u001b[0m     \u001b[0;32melse\u001b[0m\u001b[0;34m:\u001b[0m\u001b[0;34m\u001b[0m\u001b[0m\n",
      "\u001b[0;32m/home/slaterc/anaconda3/lib/python3.5/site-packages/keras/engine/topology.py\u001b[0m in \u001b[0;36m__init__\u001b[0;34m(self, layers, mode, concat_axis, dot_axes, output_shape, output_mask, arguments, node_indices, tensor_indices, name)\u001b[0m\n\u001b[1;32m   1297\u001b[0m             self._arguments_validation(layers, mode,\n\u001b[1;32m   1298\u001b[0m                                        \u001b[0mconcat_axis\u001b[0m\u001b[0;34m,\u001b[0m \u001b[0mdot_axes\u001b[0m\u001b[0;34m,\u001b[0m\u001b[0;34m\u001b[0m\u001b[0m\n\u001b[0;32m-> 1299\u001b[0;31m                                        node_indices, tensor_indices)\n\u001b[0m\u001b[1;32m   1300\u001b[0m             \u001b[0mself\u001b[0m\u001b[0;34m.\u001b[0m\u001b[0mbuilt\u001b[0m \u001b[0;34m=\u001b[0m \u001b[0;32mTrue\u001b[0m\u001b[0;34m\u001b[0m\u001b[0m\n\u001b[1;32m   1301\u001b[0m             \u001b[0mself\u001b[0m\u001b[0;34m.\u001b[0m\u001b[0madd_inbound_node\u001b[0m\u001b[0;34m(\u001b[0m\u001b[0mlayers\u001b[0m\u001b[0;34m,\u001b[0m \u001b[0mnode_indices\u001b[0m\u001b[0;34m,\u001b[0m \u001b[0mtensor_indices\u001b[0m\u001b[0;34m)\u001b[0m\u001b[0;34m\u001b[0m\u001b[0m\n",
      "\u001b[0;32m/home/slaterc/anaconda3/lib/python3.5/site-packages/keras/engine/topology.py\u001b[0m in \u001b[0;36m_arguments_validation\u001b[0;34m(self, layers, mode, concat_axis, dot_axes, node_indices, tensor_indices)\u001b[0m\n\u001b[1;32m   1314\u001b[0m             raise TypeError('A Merge should only be applied to a list of '\n\u001b[1;32m   1315\u001b[0m                             \u001b[0;34m'layers with at least 2 elements. Found: '\u001b[0m \u001b[0;34m+\u001b[0m\u001b[0;34m\u001b[0m\u001b[0m\n\u001b[0;32m-> 1316\u001b[0;31m                             str(layers))\n\u001b[0m\u001b[1;32m   1317\u001b[0m \u001b[0;34m\u001b[0m\u001b[0m\n\u001b[1;32m   1318\u001b[0m         \u001b[0;32mif\u001b[0m \u001b[0mtensor_indices\u001b[0m \u001b[0;32mis\u001b[0m \u001b[0;32mNone\u001b[0m\u001b[0;34m:\u001b[0m\u001b[0;34m\u001b[0m\u001b[0m\n",
      "\u001b[0;31mTypeError\u001b[0m: A Merge should only be applied to a list of layers with at least 2 elements. Found: [<keras.layers.core.Flatten object at 0x7f11bcf41160>]"
     ]
    }
   ],
   "source": [
    "# linear model - TODO: how to get a \"4D dot product\"\n",
    "x = merge([u, q, s, g], mode='mul')\n",
    "#x = merge([x], mode='sum')\n",
    "x = Flatten()(x)\n",
    "x = merge([x], mode='sum')\n",
    "#x = merge([x, ub], mode='sum')\n",
    "#x = merge([x, qb], mode='sum')\n",
    "#x = merge([x, sb], mode='sum')\n",
    "#x = merge([x, gb], mode='sum')\n",
    "model = Model([user_in, question_in, subtrack_in, game_in], x)\n",
    "model.compile(Adam(0.001), loss=capped_binomial_deviance)"
   ]
  },
  {
   "cell_type": "code",
   "execution_count": 67,
   "metadata": {
    "ExecuteTime": {
     "end_time": "2017-04-19T20:27:10.875049",
     "start_time": "2017-04-19T20:27:10.710925"
    },
    "collapsed": false
   },
   "outputs": [
    {
     "name": "stdout",
     "output_type": "stream",
     "text": [
      "____________________________________________________________________________________________________\n",
      "Layer (type)                     Output Shape          Param #     Connected to                     \n",
      "====================================================================================================\n",
      "user_in (InputLayer)             (None, 1)             0                                            \n",
      "____________________________________________________________________________________________________\n",
      "question_in (InputLayer)         (None, 1)             0                                            \n",
      "____________________________________________________________________________________________________\n",
      "subtrack_in (InputLayer)         (None, 1)             0                                            \n",
      "____________________________________________________________________________________________________\n",
      "game_in (InputLayer)             (None, 1)             0                                            \n",
      "____________________________________________________________________________________________________\n",
      "embedding_29 (Embedding)         (None, 1, 50)         8955300     user_in[0][0]                    \n",
      "____________________________________________________________________________________________________\n",
      "embedding_30 (Embedding)         (None, 1, 50)         302250      question_in[0][0]                \n",
      "____________________________________________________________________________________________________\n",
      "embedding_23 (Embedding)         (None, 1, 50)         800         subtrack_in[0][0]                \n",
      "____________________________________________________________________________________________________\n",
      "embedding_24 (Embedding)         (None, 1, 50)         600         game_in[0][0]                    \n",
      "____________________________________________________________________________________________________\n",
      "merge_44 (Merge)                 (None, 1, 50)         0           embedding_29[0][0]               \n",
      "                                                                   embedding_30[0][0]               \n",
      "                                                                   embedding_23[0][0]               \n",
      "                                                                   embedding_24[0][0]               \n",
      "____________________________________________________________________________________________________\n",
      "flatten_29 (Flatten)             (None, 50)            0           merge_44[0][0]                   \n",
      "====================================================================================================\n",
      "Total params: 9,258,950\n",
      "Trainable params: 9,258,950\n",
      "Non-trainable params: 0\n",
      "____________________________________________________________________________________________________\n"
     ]
    }
   ],
   "source": [
    "model.summary()"
   ]
  },
  {
   "cell_type": "code",
   "execution_count": 52,
   "metadata": {
    "ExecuteTime": {
     "end_time": "2017-04-19T20:21:47.134132",
     "start_time": "2017-04-19T20:19:37.397028"
    },
    "collapsed": false
   },
   "outputs": [
    {
     "name": "stdout",
     "output_type": "stream",
     "text": [
      "Train on 4763362 samples, validate on 80075 samples\n",
      "Epoch 1/1\n",
      "4763362/4763362 [==============================] - 126s - loss: 0.3544 - val_loss: 0.2822\n"
     ]
    },
    {
     "data": {
      "text/plain": [
       "<keras.callbacks.History at 0x7f11be398518>"
      ]
     },
     "execution_count": 52,
     "metadata": {},
     "output_type": "execute_result"
    }
   ],
   "source": [
    "model.fit([valid_train.user_id, valid_train.question_id], valid_train.correct, batch_size=1024, nb_epoch=1, \n",
    "          validation_data=([valid_test.user_id, valid_test.question_id], valid_test.correct))"
   ]
  },
  {
   "cell_type": "code",
   "execution_count": 39,
   "metadata": {
    "ExecuteTime": {
     "end_time": "2017-04-19T20:14:32.414633",
     "start_time": "2017-04-19T20:13:40.441051"
    },
    "collapsed": false
   },
   "outputs": [
    {
     "name": "stdout",
     "output_type": "stream",
     "text": [
      "Train on 4763362 samples, validate on 80075 samples\n",
      "Epoch 1/1\n",
      "1203200/4763362 [======>.......................] - ETA: 153s - loss: 11.8408"
     ]
    },
    {
     "ename": "KeyboardInterrupt",
     "evalue": "",
     "output_type": "error",
     "traceback": [
      "\u001b[0;31m---------------------------------------------------------------------------\u001b[0m",
      "\u001b[0;31mKeyboardInterrupt\u001b[0m                         Traceback (most recent call last)",
      "\u001b[0;32m<ipython-input-39-61f1ac199806>\u001b[0m in \u001b[0;36m<module>\u001b[0;34m()\u001b[0m\n\u001b[1;32m      1\u001b[0m model.fit([valid_train.user_id, valid_train.question_id], valid_train.correct, batch_size=1024, nb_epoch=1, \n\u001b[0;32m----> 2\u001b[0;31m           validation_data=([valid_test.user_id, valid_test.question_id], valid_test.correct))\n\u001b[0m",
      "\u001b[0;32m/home/slaterc/anaconda3/lib/python3.5/site-packages/keras/engine/training.py\u001b[0m in \u001b[0;36mfit\u001b[0;34m(self, x, y, batch_size, nb_epoch, verbose, callbacks, validation_split, validation_data, shuffle, class_weight, sample_weight, initial_epoch)\u001b[0m\n\u001b[1;32m   1190\u001b[0m                               \u001b[0mval_f\u001b[0m\u001b[0;34m=\u001b[0m\u001b[0mval_f\u001b[0m\u001b[0;34m,\u001b[0m \u001b[0mval_ins\u001b[0m\u001b[0;34m=\u001b[0m\u001b[0mval_ins\u001b[0m\u001b[0;34m,\u001b[0m \u001b[0mshuffle\u001b[0m\u001b[0;34m=\u001b[0m\u001b[0mshuffle\u001b[0m\u001b[0;34m,\u001b[0m\u001b[0;34m\u001b[0m\u001b[0m\n\u001b[1;32m   1191\u001b[0m                               \u001b[0mcallback_metrics\u001b[0m\u001b[0;34m=\u001b[0m\u001b[0mcallback_metrics\u001b[0m\u001b[0;34m,\u001b[0m\u001b[0;34m\u001b[0m\u001b[0m\n\u001b[0;32m-> 1192\u001b[0;31m                               initial_epoch=initial_epoch)\n\u001b[0m\u001b[1;32m   1193\u001b[0m \u001b[0;34m\u001b[0m\u001b[0m\n\u001b[1;32m   1194\u001b[0m     \u001b[0;32mdef\u001b[0m \u001b[0mevaluate\u001b[0m\u001b[0;34m(\u001b[0m\u001b[0mself\u001b[0m\u001b[0;34m,\u001b[0m \u001b[0mx\u001b[0m\u001b[0;34m,\u001b[0m \u001b[0my\u001b[0m\u001b[0;34m,\u001b[0m \u001b[0mbatch_size\u001b[0m\u001b[0;34m=\u001b[0m\u001b[0;36m32\u001b[0m\u001b[0;34m,\u001b[0m \u001b[0mverbose\u001b[0m\u001b[0;34m=\u001b[0m\u001b[0;36m1\u001b[0m\u001b[0;34m,\u001b[0m \u001b[0msample_weight\u001b[0m\u001b[0;34m=\u001b[0m\u001b[0;32mNone\u001b[0m\u001b[0;34m)\u001b[0m\u001b[0;34m:\u001b[0m\u001b[0;34m\u001b[0m\u001b[0m\n",
      "\u001b[0;32m/home/slaterc/anaconda3/lib/python3.5/site-packages/keras/engine/training.py\u001b[0m in \u001b[0;36m_fit_loop\u001b[0;34m(self, f, ins, out_labels, batch_size, nb_epoch, verbose, callbacks, val_f, val_ins, shuffle, callback_metrics, initial_epoch)\u001b[0m\n\u001b[1;32m    890\u001b[0m                 \u001b[0mbatch_logs\u001b[0m\u001b[0;34m[\u001b[0m\u001b[0;34m'size'\u001b[0m\u001b[0;34m]\u001b[0m \u001b[0;34m=\u001b[0m \u001b[0mlen\u001b[0m\u001b[0;34m(\u001b[0m\u001b[0mbatch_ids\u001b[0m\u001b[0;34m)\u001b[0m\u001b[0;34m\u001b[0m\u001b[0m\n\u001b[1;32m    891\u001b[0m                 \u001b[0mcallbacks\u001b[0m\u001b[0;34m.\u001b[0m\u001b[0mon_batch_begin\u001b[0m\u001b[0;34m(\u001b[0m\u001b[0mbatch_index\u001b[0m\u001b[0;34m,\u001b[0m \u001b[0mbatch_logs\u001b[0m\u001b[0;34m)\u001b[0m\u001b[0;34m\u001b[0m\u001b[0m\n\u001b[0;32m--> 892\u001b[0;31m                 \u001b[0mouts\u001b[0m \u001b[0;34m=\u001b[0m \u001b[0mf\u001b[0m\u001b[0;34m(\u001b[0m\u001b[0mins_batch\u001b[0m\u001b[0;34m)\u001b[0m\u001b[0;34m\u001b[0m\u001b[0m\n\u001b[0m\u001b[1;32m    893\u001b[0m                 \u001b[0;32mif\u001b[0m \u001b[0;32mnot\u001b[0m \u001b[0misinstance\u001b[0m\u001b[0;34m(\u001b[0m\u001b[0mouts\u001b[0m\u001b[0;34m,\u001b[0m \u001b[0mlist\u001b[0m\u001b[0;34m)\u001b[0m\u001b[0;34m:\u001b[0m\u001b[0;34m\u001b[0m\u001b[0m\n\u001b[1;32m    894\u001b[0m                     \u001b[0mouts\u001b[0m \u001b[0;34m=\u001b[0m \u001b[0;34m[\u001b[0m\u001b[0mouts\u001b[0m\u001b[0;34m]\u001b[0m\u001b[0;34m\u001b[0m\u001b[0m\n",
      "\u001b[0;32m/home/slaterc/anaconda3/lib/python3.5/site-packages/keras/backend/theano_backend.py\u001b[0m in \u001b[0;36m__call__\u001b[0;34m(self, inputs)\u001b[0m\n\u001b[1;32m    957\u001b[0m     \u001b[0;32mdef\u001b[0m \u001b[0m__call__\u001b[0m\u001b[0;34m(\u001b[0m\u001b[0mself\u001b[0m\u001b[0;34m,\u001b[0m \u001b[0minputs\u001b[0m\u001b[0;34m)\u001b[0m\u001b[0;34m:\u001b[0m\u001b[0;34m\u001b[0m\u001b[0m\n\u001b[1;32m    958\u001b[0m         \u001b[0;32massert\u001b[0m \u001b[0misinstance\u001b[0m\u001b[0;34m(\u001b[0m\u001b[0minputs\u001b[0m\u001b[0;34m,\u001b[0m \u001b[0;34m(\u001b[0m\u001b[0mlist\u001b[0m\u001b[0;34m,\u001b[0m \u001b[0mtuple\u001b[0m\u001b[0;34m)\u001b[0m\u001b[0;34m)\u001b[0m\u001b[0;34m\u001b[0m\u001b[0m\n\u001b[0;32m--> 959\u001b[0;31m         \u001b[0;32mreturn\u001b[0m \u001b[0mself\u001b[0m\u001b[0;34m.\u001b[0m\u001b[0mfunction\u001b[0m\u001b[0;34m(\u001b[0m\u001b[0;34m*\u001b[0m\u001b[0minputs\u001b[0m\u001b[0;34m)\u001b[0m\u001b[0;34m\u001b[0m\u001b[0m\n\u001b[0m\u001b[1;32m    960\u001b[0m \u001b[0;34m\u001b[0m\u001b[0m\n\u001b[1;32m    961\u001b[0m \u001b[0;34m\u001b[0m\u001b[0m\n",
      "\u001b[0;32m/home/slaterc/anaconda3/lib/python3.5/site-packages/theano/compile/function_module.py\u001b[0m in \u001b[0;36m__call__\u001b[0;34m(self, *args, **kwargs)\u001b[0m\n\u001b[1;32m    857\u001b[0m         \u001b[0mt0_fn\u001b[0m \u001b[0;34m=\u001b[0m \u001b[0mtime\u001b[0m\u001b[0;34m.\u001b[0m\u001b[0mtime\u001b[0m\u001b[0;34m(\u001b[0m\u001b[0;34m)\u001b[0m\u001b[0;34m\u001b[0m\u001b[0m\n\u001b[1;32m    858\u001b[0m         \u001b[0;32mtry\u001b[0m\u001b[0;34m:\u001b[0m\u001b[0;34m\u001b[0m\u001b[0m\n\u001b[0;32m--> 859\u001b[0;31m             \u001b[0moutputs\u001b[0m \u001b[0;34m=\u001b[0m \u001b[0mself\u001b[0m\u001b[0;34m.\u001b[0m\u001b[0mfn\u001b[0m\u001b[0;34m(\u001b[0m\u001b[0;34m)\u001b[0m\u001b[0;34m\u001b[0m\u001b[0m\n\u001b[0m\u001b[1;32m    860\u001b[0m         \u001b[0;32mexcept\u001b[0m \u001b[0mException\u001b[0m\u001b[0;34m:\u001b[0m\u001b[0;34m\u001b[0m\u001b[0m\n\u001b[1;32m    861\u001b[0m             \u001b[0;32mif\u001b[0m \u001b[0mhasattr\u001b[0m\u001b[0;34m(\u001b[0m\u001b[0mself\u001b[0m\u001b[0;34m.\u001b[0m\u001b[0mfn\u001b[0m\u001b[0;34m,\u001b[0m \u001b[0;34m'position_of_error'\u001b[0m\u001b[0;34m)\u001b[0m\u001b[0;34m:\u001b[0m\u001b[0;34m\u001b[0m\u001b[0m\n",
      "\u001b[0;31mKeyboardInterrupt\u001b[0m: "
     ]
    }
   ],
   "source": [
    "model.fit([valid_train.user_id, valid_train.question_id], valid_train.correct, batch_size=1024, nb_epoch=1, \n",
    "          validation_data=([valid_test.user_id, valid_test.question_id], valid_test.correct))"
   ]
  },
  {
   "cell_type": "code",
   "execution_count": 28,
   "metadata": {
    "ExecuteTime": {
     "end_time": "2017-04-19T20:04:50.551338",
     "start_time": "2017-04-19T20:02:45.022616"
    },
    "collapsed": false
   },
   "outputs": [
    {
     "name": "stdout",
     "output_type": "stream",
     "text": [
      "Train on 4763362 samples, validate on 80075 samples\n",
      "Epoch 1/1\n",
      "4763362/4763362 [==============================] - 125s - loss: 0.2457 - val_loss: 0.2689\n"
     ]
    },
    {
     "data": {
      "text/plain": [
       "<keras.callbacks.History at 0x7f120b1e4860>"
      ]
     },
     "execution_count": 28,
     "metadata": {},
     "output_type": "execute_result"
    }
   ],
   "source": [
    "model.optimizer.lr = 1e-5\n",
    "model.fit([valid_train.user_id, valid_train.question_id], valid_train.correct, batch_size=1024, nb_epoch=1, \n",
    "          validation_data=([valid_test.user_id, valid_test.question_id], valid_test.correct))"
   ]
  },
  {
   "cell_type": "code",
   "execution_count": 26,
   "metadata": {
    "ExecuteTime": {
     "end_time": "2017-04-19T20:01:57.565691",
     "start_time": "2017-04-19T20:01:54.875246"
    },
    "collapsed": false
   },
   "outputs": [
    {
     "data": {
      "text/plain": [
       "array(0.2686835527420044, dtype=float32)"
      ]
     },
     "execution_count": 26,
     "metadata": {},
     "output_type": "execute_result"
    }
   ],
   "source": [
    "pred = model.predict([valid_test.user_id, valid_test.question_id])\n",
    "y_true = T.vector()\n",
    "y_pred = T.vector()\n",
    "loss = capped_binomial_deviance(y_true, y_pred)\n",
    "loss.eval({y_true: valid_test.correct, y_pred: pred[:,0]})"
   ]
  },
  {
   "cell_type": "markdown",
   "metadata": {},
   "source": [
    "## Neural Network Model\n",
    "\n",
    "* TODO: Use the correct loss function\n",
    "* TODO: Train model, ~35 min/epoch\n"
   ]
  },
  {
   "cell_type": "code",
   "execution_count": 77,
   "metadata": {
    "ExecuteTime": {
     "end_time": "2017-04-19T21:10:00.247290",
     "start_time": "2017-04-19T21:10:00.136975"
    },
    "collapsed": false
   },
   "outputs": [],
   "source": [
    "x = merge([u, q, g], mode='concat')\n",
    "#x = merge([u ,q])\n",
    "x = Flatten()(x)\n",
    "#x = BatchNormalization()\n",
    "#x = Dropout(0.3)(x)\n",
    "#x = Dense(140, activation='relu')(x)\n",
    "#x = BatchNormalization()\n",
    "#x = Dropout(0.75)(x)\n",
    "x = Dense(70, activation='relu')(x)\n",
    "x = Dense(1)(x)\n",
    "nn = Model([user_in, question_in, game_in], x)\n",
    "#nn = Model([user_in, question_in], x)\n",
    "nn.compile(Adam(0.001), loss='mse', metrics=['accuracy'])"
   ]
  },
  {
   "cell_type": "code",
   "execution_count": 84,
   "metadata": {
    "ExecuteTime": {
     "end_time": "2017-04-17T03:13:52.687133",
     "start_time": "2017-04-17T03:11:31.336884"
    },
    "collapsed": false
   },
   "outputs": [
    {
     "name": "stdout",
     "output_type": "stream",
     "text": [
      "Train on 4763362 samples, validate on 80075 samples\n",
      "Epoch 1/1\n",
      "4763362/4763362 [==============================] - 137s - loss: 0.2196 - val_loss: 0.2343\n"
     ]
    },
    {
     "data": {
      "text/plain": [
       "<keras.callbacks.History at 0x7ff71c3ff128>"
      ]
     },
     "execution_count": 84,
     "metadata": {},
     "output_type": "execute_result"
    }
   ],
   "source": [
    "# 3 features\n",
    "nn.fit([valid_train.user_id, valid_train.question_id, valid_train.game_type],\n",
    "          valid_train.correct, batch_size=1024, nb_epoch=1, \n",
    "          validation_data=([valid_test.user_id, valid_test.question_id, valid_test.game_type],\n",
    "                           valid_test.correct))"
   ]
  },
  {
   "cell_type": "code",
   "execution_count": 85,
   "metadata": {
    "ExecuteTime": {
     "end_time": "2017-04-17T03:13:56.160173",
     "start_time": "2017-04-17T03:13:52.688277"
    },
    "collapsed": false
   },
   "outputs": [
    {
     "data": {
      "text/plain": [
       "array(0.2696603834629059, dtype=float32)"
      ]
     },
     "execution_count": 85,
     "metadata": {},
     "output_type": "execute_result"
    }
   ],
   "source": [
    "pred = nn.predict([valid_test.user_id, valid_test.question_id, valid_test.game_type])\n",
    "y_true = T.vector()\n",
    "y_pred = T.vector()\n",
    "loss = capped_binomial_deviance(y_true, y_pred)\n",
    "loss.eval({y_true: valid_test.correct, y_pred: pred[:,0]})"
   ]
  },
  {
   "cell_type": "code",
   "execution_count": 14,
   "metadata": {
    "ExecuteTime": {
     "end_time": "2017-04-16T02:29:29.588683",
     "start_time": "2017-04-16T02:27:16.391824"
    },
    "collapsed": false
   },
   "outputs": [
    {
     "name": "stdout",
     "output_type": "stream",
     "text": [
      "Train on 4763362 samples, validate on 80075 samples\n",
      "Epoch 1/1\n",
      "4763362/4763362 [==============================] - 128s - loss: 0.3085 - val_loss: 0.3003\n"
     ]
    },
    {
     "data": {
      "text/plain": [
       "<keras.callbacks.History at 0x7f202839ec18>"
      ]
     },
     "execution_count": 14,
     "metadata": {},
     "output_type": "execute_result"
    }
   ],
   "source": [
    "# 2 features\n",
    "nn.fit([valid_train.user_id, valid_train.question_id],\n",
    "          valid_train.correct, batch_size=1024, nb_epoch=1, \n",
    "          validation_data=([valid_test.user_id, valid_test.question_id],\n",
    "                           valid_test.correct))"
   ]
  },
  {
   "cell_type": "code",
   "execution_count": 20,
   "metadata": {
    "ExecuteTime": {
     "end_time": "2017-04-16T02:35:06.223234",
     "start_time": "2017-04-16T02:35:05.060545"
    },
    "collapsed": false
   },
   "outputs": [],
   "source": [
    "nn.save_weights(models_path+'2features-01.h5')"
   ]
  },
  {
   "cell_type": "code",
   "execution_count": 64,
   "metadata": {
    "ExecuteTime": {
     "end_time": "2017-04-16T03:04:17.957619",
     "start_time": "2017-04-16T03:02:37.590261"
    },
    "collapsed": false
   },
   "outputs": [
    {
     "data": {
      "text/plain": [
       "array(0.2632095217704773, dtype=float32)"
      ]
     },
     "execution_count": 64,
     "metadata": {},
     "output_type": "execute_result"
    }
   ],
   "source": [
    "pred = nn.predict([valid_test.user_id, valid_test.question_id])\n",
    "y_true = T.vector()\n",
    "y_pred = T.vector()\n",
    "loss = capped_binomial_deviance(y_true, y_pred)\n",
    "loss.eval({y_true: valid_test.correct, y_pred: pred[:,0]})"
   ]
  },
  {
   "cell_type": "code",
   "execution_count": 19,
   "metadata": {
    "ExecuteTime": {
     "end_time": "2017-04-17T01:50:17.210179",
     "start_time": "2017-04-17T01:34:08.574561"
    },
    "collapsed": false
   },
   "outputs": [
    {
     "name": "stdout",
     "output_type": "stream",
     "text": [
      "Train on 4763362 samples, validate on 80075 samples\n",
      "Epoch 1/1\n",
      "4763362/4763362 [==============================] - 963s - loss: 0.3596 - val_loss: 0.3209\n"
     ]
    },
    {
     "data": {
      "text/plain": [
       "<keras.callbacks.History at 0x7ff77f685630>"
      ]
     },
     "execution_count": 19,
     "metadata": {},
     "output_type": "execute_result"
    }
   ],
   "source": [
    "# 4 features, gives a slight improvement... maybe\n",
    "nn.fit([valid_train.user_id, valid_train.question_id, valid_train.subtrack_name, valid_train.game_type],\n",
    "          valid_train.correct, batch_size=1024, nb_epoch=1, \n",
    "          validation_data=([valid_test.user_id, valid_test.question_id, valid_test.subtrack_name, valid_test.game_type],\n",
    "                           valid_test.correct))"
   ]
  },
  {
   "cell_type": "code",
   "execution_count": 20,
   "metadata": {
    "ExecuteTime": {
     "end_time": "2017-04-17T01:50:22.071276",
     "start_time": "2017-04-17T01:50:17.211456"
    },
    "collapsed": false
   },
   "outputs": [
    {
     "data": {
      "text/plain": [
       "array(0.2753365635871887, dtype=float32)"
      ]
     },
     "execution_count": 20,
     "metadata": {},
     "output_type": "execute_result"
    }
   ],
   "source": [
    "pred = nn.predict([valid_test.user_id, valid_test.question_id, valid_test.subtrack_name, valid_test.game_type])\n",
    "y_true = T.vector()\n",
    "y_pred = T.vector()\n",
    "loss = capped_binomial_deviance(y_true, y_pred)\n",
    "loss.eval({y_true: valid_test.correct, y_pred: pred[:,0]})"
   ]
  },
  {
   "cell_type": "code",
   "execution_count": 23,
   "metadata": {
    "ExecuteTime": {
     "end_time": "2017-04-17T01:51:03.614222",
     "start_time": "2017-04-17T01:50:50.884761"
    },
    "collapsed": true
   },
   "outputs": [],
   "source": [
    "nn.save_weights(models_path+'4features-factors-01.h5')"
   ]
  },
  {
   "cell_type": "code",
   "execution_count": 67,
   "metadata": {
    "ExecuteTime": {
     "end_time": "2017-04-16T03:08:14.533659",
     "start_time": "2017-04-16T03:08:10.805265"
    },
    "collapsed": false
   },
   "outputs": [
    {
     "data": {
      "text/plain": [
       "array(0.27586492896080017, dtype=float32)"
      ]
     },
     "execution_count": 67,
     "metadata": {},
     "output_type": "execute_result"
    }
   ],
   "source": [
    "pred = nn.predict([valid_test.user_id, valid_test.question_id, valid_test.subtrack_name, valid_test.game_type])\n",
    "y_true = T.vector()\n",
    "y_pred = T.vector()\n",
    "loss = capped_binomial_deviance(y_true, y_pred)\n",
    "loss.eval({y_true: valid_test.correct, y_pred: pred[:,0]})"
   ]
  },
  {
   "cell_type": "code",
   "execution_count": 134,
   "metadata": {
    "ExecuteTime": {
     "end_time": "2017-04-14T21:25:00.765960",
     "start_time": "2017-04-14T21:22:34.244510"
    },
    "collapsed": false
   },
   "outputs": [
    {
     "name": "stdout",
     "output_type": "stream",
     "text": [
      "Train on 4763362 samples, validate on 80075 samples\n",
      "Epoch 1/1\n",
      "4763362/4763362 [==============================] - 146s - loss: 0.2894 - val_loss: 0.2953\n"
     ]
    },
    {
     "data": {
      "text/plain": [
       "<keras.callbacks.History at 0x7f4485177908>"
      ]
     },
     "execution_count": 134,
     "metadata": {},
     "output_type": "execute_result"
    }
   ],
   "source": [
    "# decreasing the learning rate slightly improves the model\n",
    "nn.optimizer.lr = 1e-4\n",
    "nn.fit([valid_train.user_id, valid_train.question_id, valid_train.subtrack_name, valid_train.game_type],\n",
    "          valid_train.correct, batch_size=1024, nb_epoch=1, \n",
    "          validation_data=([valid_test.user_id, valid_test.question_id, valid_test.subtrack_name, valid_test.game_type],\n",
    "                           valid_test.correct))"
   ]
  },
  {
   "cell_type": "code",
   "execution_count": 137,
   "metadata": {
    "ExecuteTime": {
     "end_time": "2017-04-14T21:26:36.975878",
     "start_time": "2017-04-14T21:25:50.407466"
    },
    "collapsed": false
   },
   "outputs": [
    {
     "name": "stdout",
     "output_type": "stream",
     "text": [
      "Train on 4763362 samples, validate on 80075 samples\n",
      "Epoch 1/1\n",
      " 419840/4763362 [=>............................] - ETA: 481s - loss: 0.2959"
     ]
    },
    {
     "ename": "KeyboardInterrupt",
     "evalue": "",
     "output_type": "error",
     "traceback": [
      "\u001b[0;31m---------------------------------------------------------------------------\u001b[0m",
      "\u001b[0;31mKeyboardInterrupt\u001b[0m                         Traceback (most recent call last)",
      "\u001b[0;32m<ipython-input-137-b39a6c91ad99>\u001b[0m in \u001b[0;36m<module>\u001b[0;34m()\u001b[0m\n\u001b[1;32m      3\u001b[0m           \u001b[0mvalid_train\u001b[0m\u001b[0;34m.\u001b[0m\u001b[0mcorrect\u001b[0m\u001b[0;34m,\u001b[0m \u001b[0mbatch_size\u001b[0m\u001b[0;34m=\u001b[0m\u001b[0;36m256\u001b[0m\u001b[0;34m,\u001b[0m \u001b[0mnb_epoch\u001b[0m\u001b[0;34m=\u001b[0m\u001b[0;36m1\u001b[0m\u001b[0;34m,\u001b[0m\u001b[0;34m\u001b[0m\u001b[0m\n\u001b[1;32m      4\u001b[0m           validation_data=([valid_test.user_id, valid_test.question_id, valid_test.subtrack_name, valid_test.game_type],\n\u001b[0;32m----> 5\u001b[0;31m                            valid_test.correct))\n\u001b[0m",
      "\u001b[0;32m/home/slaterc/anaconda3/lib/python3.5/site-packages/keras/engine/training.py\u001b[0m in \u001b[0;36mfit\u001b[0;34m(self, x, y, batch_size, nb_epoch, verbose, callbacks, validation_split, validation_data, shuffle, class_weight, sample_weight, initial_epoch)\u001b[0m\n\u001b[1;32m   1190\u001b[0m                               \u001b[0mval_f\u001b[0m\u001b[0;34m=\u001b[0m\u001b[0mval_f\u001b[0m\u001b[0;34m,\u001b[0m \u001b[0mval_ins\u001b[0m\u001b[0;34m=\u001b[0m\u001b[0mval_ins\u001b[0m\u001b[0;34m,\u001b[0m \u001b[0mshuffle\u001b[0m\u001b[0;34m=\u001b[0m\u001b[0mshuffle\u001b[0m\u001b[0;34m,\u001b[0m\u001b[0;34m\u001b[0m\u001b[0m\n\u001b[1;32m   1191\u001b[0m                               \u001b[0mcallback_metrics\u001b[0m\u001b[0;34m=\u001b[0m\u001b[0mcallback_metrics\u001b[0m\u001b[0;34m,\u001b[0m\u001b[0;34m\u001b[0m\u001b[0m\n\u001b[0;32m-> 1192\u001b[0;31m                               initial_epoch=initial_epoch)\n\u001b[0m\u001b[1;32m   1193\u001b[0m \u001b[0;34m\u001b[0m\u001b[0m\n\u001b[1;32m   1194\u001b[0m     \u001b[0;32mdef\u001b[0m \u001b[0mevaluate\u001b[0m\u001b[0;34m(\u001b[0m\u001b[0mself\u001b[0m\u001b[0;34m,\u001b[0m \u001b[0mx\u001b[0m\u001b[0;34m,\u001b[0m \u001b[0my\u001b[0m\u001b[0;34m,\u001b[0m \u001b[0mbatch_size\u001b[0m\u001b[0;34m=\u001b[0m\u001b[0;36m32\u001b[0m\u001b[0;34m,\u001b[0m \u001b[0mverbose\u001b[0m\u001b[0;34m=\u001b[0m\u001b[0;36m1\u001b[0m\u001b[0;34m,\u001b[0m \u001b[0msample_weight\u001b[0m\u001b[0;34m=\u001b[0m\u001b[0;32mNone\u001b[0m\u001b[0;34m)\u001b[0m\u001b[0;34m:\u001b[0m\u001b[0;34m\u001b[0m\u001b[0m\n",
      "\u001b[0;32m/home/slaterc/anaconda3/lib/python3.5/site-packages/keras/engine/training.py\u001b[0m in \u001b[0;36m_fit_loop\u001b[0;34m(self, f, ins, out_labels, batch_size, nb_epoch, verbose, callbacks, val_f, val_ins, shuffle, callback_metrics, initial_epoch)\u001b[0m\n\u001b[1;32m    890\u001b[0m                 \u001b[0mbatch_logs\u001b[0m\u001b[0;34m[\u001b[0m\u001b[0;34m'size'\u001b[0m\u001b[0;34m]\u001b[0m \u001b[0;34m=\u001b[0m \u001b[0mlen\u001b[0m\u001b[0;34m(\u001b[0m\u001b[0mbatch_ids\u001b[0m\u001b[0;34m)\u001b[0m\u001b[0;34m\u001b[0m\u001b[0m\n\u001b[1;32m    891\u001b[0m                 \u001b[0mcallbacks\u001b[0m\u001b[0;34m.\u001b[0m\u001b[0mon_batch_begin\u001b[0m\u001b[0;34m(\u001b[0m\u001b[0mbatch_index\u001b[0m\u001b[0;34m,\u001b[0m \u001b[0mbatch_logs\u001b[0m\u001b[0;34m)\u001b[0m\u001b[0;34m\u001b[0m\u001b[0m\n\u001b[0;32m--> 892\u001b[0;31m                 \u001b[0mouts\u001b[0m \u001b[0;34m=\u001b[0m \u001b[0mf\u001b[0m\u001b[0;34m(\u001b[0m\u001b[0mins_batch\u001b[0m\u001b[0;34m)\u001b[0m\u001b[0;34m\u001b[0m\u001b[0m\n\u001b[0m\u001b[1;32m    893\u001b[0m                 \u001b[0;32mif\u001b[0m \u001b[0;32mnot\u001b[0m \u001b[0misinstance\u001b[0m\u001b[0;34m(\u001b[0m\u001b[0mouts\u001b[0m\u001b[0;34m,\u001b[0m \u001b[0mlist\u001b[0m\u001b[0;34m)\u001b[0m\u001b[0;34m:\u001b[0m\u001b[0;34m\u001b[0m\u001b[0m\n\u001b[1;32m    894\u001b[0m                     \u001b[0mouts\u001b[0m \u001b[0;34m=\u001b[0m \u001b[0;34m[\u001b[0m\u001b[0mouts\u001b[0m\u001b[0;34m]\u001b[0m\u001b[0;34m\u001b[0m\u001b[0m\n",
      "\u001b[0;32m/home/slaterc/anaconda3/lib/python3.5/site-packages/keras/backend/theano_backend.py\u001b[0m in \u001b[0;36m__call__\u001b[0;34m(self, inputs)\u001b[0m\n\u001b[1;32m    957\u001b[0m     \u001b[0;32mdef\u001b[0m \u001b[0m__call__\u001b[0m\u001b[0;34m(\u001b[0m\u001b[0mself\u001b[0m\u001b[0;34m,\u001b[0m \u001b[0minputs\u001b[0m\u001b[0;34m)\u001b[0m\u001b[0;34m:\u001b[0m\u001b[0;34m\u001b[0m\u001b[0m\n\u001b[1;32m    958\u001b[0m         \u001b[0;32massert\u001b[0m \u001b[0misinstance\u001b[0m\u001b[0;34m(\u001b[0m\u001b[0minputs\u001b[0m\u001b[0;34m,\u001b[0m \u001b[0;34m(\u001b[0m\u001b[0mlist\u001b[0m\u001b[0;34m,\u001b[0m \u001b[0mtuple\u001b[0m\u001b[0;34m)\u001b[0m\u001b[0;34m)\u001b[0m\u001b[0;34m\u001b[0m\u001b[0m\n\u001b[0;32m--> 959\u001b[0;31m         \u001b[0;32mreturn\u001b[0m \u001b[0mself\u001b[0m\u001b[0;34m.\u001b[0m\u001b[0mfunction\u001b[0m\u001b[0;34m(\u001b[0m\u001b[0;34m*\u001b[0m\u001b[0minputs\u001b[0m\u001b[0;34m)\u001b[0m\u001b[0;34m\u001b[0m\u001b[0m\n\u001b[0m\u001b[1;32m    960\u001b[0m \u001b[0;34m\u001b[0m\u001b[0m\n\u001b[1;32m    961\u001b[0m \u001b[0;34m\u001b[0m\u001b[0m\n",
      "\u001b[0;32m/home/slaterc/anaconda3/lib/python3.5/site-packages/theano/compile/function_module.py\u001b[0m in \u001b[0;36m__call__\u001b[0;34m(self, *args, **kwargs)\u001b[0m\n\u001b[1;32m    857\u001b[0m         \u001b[0mt0_fn\u001b[0m \u001b[0;34m=\u001b[0m \u001b[0mtime\u001b[0m\u001b[0;34m.\u001b[0m\u001b[0mtime\u001b[0m\u001b[0;34m(\u001b[0m\u001b[0;34m)\u001b[0m\u001b[0;34m\u001b[0m\u001b[0m\n\u001b[1;32m    858\u001b[0m         \u001b[0;32mtry\u001b[0m\u001b[0;34m:\u001b[0m\u001b[0;34m\u001b[0m\u001b[0m\n\u001b[0;32m--> 859\u001b[0;31m             \u001b[0moutputs\u001b[0m \u001b[0;34m=\u001b[0m \u001b[0mself\u001b[0m\u001b[0;34m.\u001b[0m\u001b[0mfn\u001b[0m\u001b[0;34m(\u001b[0m\u001b[0;34m)\u001b[0m\u001b[0;34m\u001b[0m\u001b[0m\n\u001b[0m\u001b[1;32m    860\u001b[0m         \u001b[0;32mexcept\u001b[0m \u001b[0mException\u001b[0m\u001b[0;34m:\u001b[0m\u001b[0;34m\u001b[0m\u001b[0m\n\u001b[1;32m    861\u001b[0m             \u001b[0;32mif\u001b[0m \u001b[0mhasattr\u001b[0m\u001b[0;34m(\u001b[0m\u001b[0mself\u001b[0m\u001b[0;34m.\u001b[0m\u001b[0mfn\u001b[0m\u001b[0;34m,\u001b[0m \u001b[0;34m'position_of_error'\u001b[0m\u001b[0;34m)\u001b[0m\u001b[0;34m:\u001b[0m\u001b[0;34m\u001b[0m\u001b[0m\n",
      "\u001b[0;32m/home/slaterc/anaconda3/lib/python3.5/site-packages/theano/ifelse.py\u001b[0m in \u001b[0;36mthunk\u001b[0;34m()\u001b[0m\n\u001b[1;32m    235\u001b[0m         \u001b[0moutputs\u001b[0m \u001b[0;34m=\u001b[0m \u001b[0mnode\u001b[0m\u001b[0;34m.\u001b[0m\u001b[0moutputs\u001b[0m\u001b[0;34m\u001b[0m\u001b[0m\n\u001b[1;32m    236\u001b[0m \u001b[0;34m\u001b[0m\u001b[0m\n\u001b[0;32m--> 237\u001b[0;31m         \u001b[0;32mdef\u001b[0m \u001b[0mthunk\u001b[0m\u001b[0;34m(\u001b[0m\u001b[0;34m)\u001b[0m\u001b[0;34m:\u001b[0m\u001b[0;34m\u001b[0m\u001b[0m\n\u001b[0m\u001b[1;32m    238\u001b[0m             \u001b[0;32mif\u001b[0m \u001b[0;32mnot\u001b[0m \u001b[0mcompute_map\u001b[0m\u001b[0;34m[\u001b[0m\u001b[0mcond\u001b[0m\u001b[0;34m]\u001b[0m\u001b[0;34m[\u001b[0m\u001b[0;36m0\u001b[0m\u001b[0;34m]\u001b[0m\u001b[0;34m:\u001b[0m\u001b[0;34m\u001b[0m\u001b[0m\n\u001b[1;32m    239\u001b[0m                 \u001b[0;32mreturn\u001b[0m \u001b[0;34m[\u001b[0m\u001b[0;36m0\u001b[0m\u001b[0;34m]\u001b[0m\u001b[0;34m\u001b[0m\u001b[0m\n",
      "\u001b[0;31mKeyboardInterrupt\u001b[0m: "
     ]
    }
   ],
   "source": [
    "# decreasing the learning rate more appears to make things worse\n",
    "nn.optimizer.lr = 1e-6\n",
    "nn.fit([valid_train.user_id, valid_train.question_id, valid_train.subtrack_name, valid_train.game_type],\n",
    "          valid_train.correct, batch_size=256, nb_epoch=1, \n",
    "          validation_data=([valid_test.user_id, valid_test.question_id, valid_test.subtrack_name, valid_test.game_type],\n",
    "                           valid_test.correct))"
   ]
  },
  {
   "cell_type": "code",
   "execution_count": 142,
   "metadata": {
    "ExecuteTime": {
     "end_time": "2017-04-14T21:33:41.887701",
     "start_time": "2017-04-14T21:33:39.600534"
    },
    "collapsed": false
   },
   "outputs": [],
   "source": [
    "pred = nn.predict([valid_test.user_id, valid_test.question_id])#, valid_test.subtrack_name, valid_test.game_type])"
   ]
  },
  {
   "cell_type": "code",
   "execution_count": 23,
   "metadata": {
    "ExecuteTime": {
     "end_time": "2017-04-16T02:36:30.705484",
     "start_time": "2017-04-16T02:36:29.065410"
    },
    "collapsed": true
   },
   "outputs": [],
   "source": [
    "%matplotlib inline"
   ]
  },
  {
   "cell_type": "code",
   "execution_count": 24,
   "metadata": {
    "ExecuteTime": {
     "end_time": "2017-04-16T02:36:31.523994",
     "start_time": "2017-04-16T02:36:30.706718"
    },
    "collapsed": false
   },
   "outputs": [
    {
     "data": {
      "text/plain": [
       "<matplotlib.axes._subplots.AxesSubplot at 0x7f202343f198>"
      ]
     },
     "execution_count": 24,
     "metadata": {},
     "output_type": "execute_result"
    },
    {
     "data": {
      "image/png": "[encoded data removed]",
      "text/plain": [
       "<matplotlib.figure.Figure at 0x7f20234329b0>"
      ]
     },
     "metadata": {},
     "output_type": "display_data"
    }
   ],
   "source": [
    "import matplotlib\n",
    "pd.Series(pred[:,0]).hist()"
   ]
  },
  {
   "cell_type": "markdown",
   "metadata": {},
   "source": [
    "# Adding More Features"
   ]
  },
  {
   "cell_type": "code",
   "execution_count": 7,
   "metadata": {
    "ExecuteTime": {
     "end_time": "2017-04-17T01:31:58.162584",
     "start_time": "2017-04-17T01:31:58.157845"
    },
    "collapsed": false
   },
   "outputs": [],
   "source": [
    "def time_to_answer(x):\n",
    "    temp = x['answered_at'] - x['round_started_at']\n",
    "    temp = [x.seconds if not pd.isnull(x) else -9999 for x in temp]\n",
    "    temp = [x / 300.0 for x in temp]\n",
    "    temp = np.clip(temp, -1, 1)\n",
    "    return temp"
   ]
  },
  {
   "cell_type": "code",
   "execution_count": 25,
   "metadata": {
    "ExecuteTime": {
     "end_time": "2017-04-17T01:58:07.081447",
     "start_time": "2017-04-17T01:58:07.078886"
    },
    "collapsed": true
   },
   "outputs": [],
   "source": [
    "time_in = Input(shape=(1,), dtype='float32', name='time_in')"
   ]
  },
  {
   "cell_type": "code",
   "execution_count": 30,
   "metadata": {
    "ExecuteTime": {
     "end_time": "2017-04-17T02:18:23.121770",
     "start_time": "2017-04-17T02:18:23.017141"
    },
    "collapsed": false
   },
   "outputs": [],
   "source": [
    "x = merge([u, q, s, g], mode='concat')\n",
    "#x = merge([u ,q])\n",
    "x = Flatten()(x)\n",
    "x = merge([x , time_in], mode='concat')\n",
    "x = Dropout(0.3)(x)\n",
    "x = Dense(70, activation='relu')(x)\n",
    "x = Dropout(0.75)(x)\n",
    "x = Dense(1)(x)\n",
    "nn = Model([user_in, question_in, subtrack_in, game_in, time_in], x)\n",
    "#nn = Model([user_in, question_in], x)\n",
    "nn.compile(Adam(0.001), loss=capped_binomial_deviance)"
   ]
  },
  {
   "cell_type": "code",
   "execution_count": 39,
   "metadata": {
    "ExecuteTime": {
     "end_time": "2017-04-17T02:29:23.110004",
     "start_time": "2017-04-17T02:24:22.807659"
    },
    "collapsed": false
   },
   "outputs": [
    {
     "name": "stdout",
     "output_type": "stream",
     "text": [
      "Train on 4763362 samples, validate on 80075 samples\n",
      "Epoch 1/1\n",
      "4763362/4763362 [==============================] - 254s - loss: 0.2914 - val_loss: 0.3026\n"
     ]
    },
    {
     "data": {
      "text/plain": [
       "<keras.callbacks.History at 0x7ff77e8c6898>"
      ]
     },
     "execution_count": 39,
     "metadata": {},
     "output_type": "execute_result"
    }
   ],
   "source": [
    "# 4 features, gives a slight improvement... maybe\n",
    "nn.fit([valid_train.user_id, valid_train.question_id, valid_train.subtrack_name, valid_train.game_type, time_to_answer(valid_train)],\n",
    "          valid_train.correct, batch_size=1024, nb_epoch=1, \n",
    "          validation_data=([valid_test.user_id, valid_test.question_id, valid_test.subtrack_name, valid_test.game_type, time_to_answer(valid_test)],\n",
    "                           valid_test.correct))"
   ]
  },
  {
   "cell_type": "code",
   "execution_count": 40,
   "metadata": {
    "ExecuteTime": {
     "end_time": "2017-04-17T02:29:28.842018",
     "start_time": "2017-04-17T02:29:23.111258"
    },
    "collapsed": false
   },
   "outputs": [
    {
     "data": {
      "text/plain": [
       "array(0.27504798769950867, dtype=float32)"
      ]
     },
     "execution_count": 40,
     "metadata": {},
     "output_type": "execute_result"
    }
   ],
   "source": [
    "pred = nn.predict([valid_test.user_id, valid_test.question_id, valid_test.subtrack_name, valid_test.game_type, time_to_answer(valid_test)])\n",
    "y_true = T.vector()\n",
    "y_pred = T.vector()\n",
    "loss = capped_binomial_deviance(y_true, y_pred)\n",
    "loss.eval({y_true: valid_test.correct, y_pred: pred[:,0]})"
   ]
  },
  {
   "cell_type": "code",
   "execution_count": 42,
   "metadata": {
    "ExecuteTime": {
     "end_time": "2017-04-17T02:29:59.572474",
     "start_time": "2017-04-17T02:29:55.445044"
    },
    "collapsed": true
   },
   "outputs": [],
   "source": [
    "nn.save_weights(models_path+'5features-01.h5')"
   ]
  },
  {
   "cell_type": "code",
   "execution_count": 44,
   "metadata": {
    "ExecuteTime": {
     "end_time": "2017-04-17T02:35:37.949648",
     "start_time": "2017-04-17T02:30:44.471704"
    },
    "collapsed": false
   },
   "outputs": [
    {
     "name": "stdout",
     "output_type": "stream",
     "text": [
      "Train on 4763362 samples, validate on 80075 samples\n",
      "Epoch 1/1\n",
      "4763362/4763362 [==============================] - 254s - loss: 0.2672 - val_loss: 0.2985\n"
     ]
    },
    {
     "data": {
      "text/plain": [
       "<keras.callbacks.History at 0x7ff77e8c7390>"
      ]
     },
     "execution_count": 44,
     "metadata": {},
     "output_type": "execute_result"
    }
   ],
   "source": [
    "nn.optimizer.lr = 1e-4\n",
    "nn.fit([valid_train.user_id, valid_train.question_id, valid_train.subtrack_name, valid_train.game_type, time_to_answer(valid_train)],\n",
    "          valid_train.correct, batch_size=1024, nb_epoch=1, \n",
    "          validation_data=([valid_test.user_id, valid_test.question_id, valid_test.subtrack_name, valid_test.game_type, time_to_answer(valid_test)],\n",
    "                           valid_test.correct))"
   ]
  },
  {
   "cell_type": "code",
   "execution_count": 45,
   "metadata": {
    "ExecuteTime": {
     "end_time": "2017-04-17T02:35:42.973524",
     "start_time": "2017-04-17T02:35:37.950844"
    },
    "collapsed": false
   },
   "outputs": [
    {
     "data": {
      "text/plain": [
       "array(0.2739352583885193, dtype=float32)"
      ]
     },
     "execution_count": 45,
     "metadata": {},
     "output_type": "execute_result"
    }
   ],
   "source": [
    "pred = nn.predict([valid_test.user_id, valid_test.question_id, valid_test.subtrack_name, valid_test.game_type, time_to_answer(valid_test)])\n",
    "y_true = T.vector()\n",
    "y_pred = T.vector()\n",
    "loss = capped_binomial_deviance(y_true, y_pred)\n",
    "loss.eval({y_true: valid_test.correct, y_pred: pred[:,0]})"
   ]
  },
  {
   "cell_type": "code",
   "execution_count": 46,
   "metadata": {
    "ExecuteTime": {
     "end_time": "2017-04-17T02:44:49.131877",
     "start_time": "2017-04-17T02:44:45.254095"
    },
    "collapsed": true
   },
   "outputs": [],
   "source": [
    "nn.save_weights(models_path+'5features-02.h5')"
   ]
  },
  {
   "cell_type": "markdown",
   "metadata": {},
   "source": [
    "# Create Submission"
   ]
  },
  {
   "cell_type": "code",
   "execution_count": 49,
   "metadata": {
    "ExecuteTime": {
     "end_time": "2017-04-17T02:45:51.719789",
     "start_time": "2017-04-17T02:45:43.366465"
    },
    "collapsed": false
   },
   "outputs": [],
   "source": [
    "# load model\n",
    "model_name = '5features-02'\n",
    "nn.load_weights(models_path + model_name + '.h5')\n",
    "pred = nn.predict([test.user_id, test.question_id, test.subtrack_name, test.game_type, time_to_answer(test)])\n",
    "pred = np.clip(pred, .01, .99)\n",
    "sub = sample_submission.copy()\n",
    "sub['outcome'] = pred\n",
    "sub.to_csv(results_path + model_name +'.csv', index=False)"
   ]
  },
  {
   "cell_type": "code",
   "execution_count": 50,
   "metadata": {
    "ExecuteTime": {
     "end_time": "2017-04-17T02:45:51.724746",
     "start_time": "2017-04-17T02:45:51.721089"
    },
    "collapsed": false
   },
   "outputs": [
    {
     "data": {
      "text/html": [
       "<a href='data/5features-02.csv' target='_blank'>data/5features-02.csv</a><br>"
      ],
      "text/plain": [
       "/home/slaterc/nbs/data/5features-02.csv"
      ]
     },
     "execution_count": 50,
     "metadata": {},
     "output_type": "execute_result"
    }
   ],
   "source": [
    "# doesnt seem to work with azure file share\n",
    "from IPython.display import FileLink\n",
    "FileLink(results_path + model_name + '.csv')"
   ]
  }
 ],
 "metadata": {
  "anaconda-cloud": {},
  "kernelspec": {
   "display_name": "Python [default]",
   "language": "python",
   "name": "python3"
  },
  "language_info": {
   "codemirror_mode": {
    "name": "ipython",
    "version": 3
   },
   "file_extension": ".py",
   "mimetype": "text/x-python",
   "name": "python",
   "nbconvert_exporter": "python",
   "pygments_lexer": "ipython3",
   "version": "3.5.2"
  }
 },
 "nbformat": 4,
 "nbformat_minor": 1
}
